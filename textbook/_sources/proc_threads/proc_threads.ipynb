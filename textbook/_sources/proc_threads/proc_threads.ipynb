{
 "cells": [
  {
   "cell_type": "markdown",
   "id": "f70e9410-e4b1-46ef-8e39-ee868f4aa3cf",
   "metadata": {},
   "source": [
    "# Processes and Threads\n",
    "\n",
    "This section will describe what is associated with processes and threads, the system calls to create them, and the associated"
   ]
  },
  {
   "cell_type": "markdown",
   "id": "5919451d-ace3-49e3-abe7-e1c77fe68bcb",
   "metadata": {},
   "source": [
    "## What is a process"
   ]
  },
  {
   "cell_type": "markdown",
   "id": "2d94af96-0a71-403f-abb7-b2e70cd2c22b",
   "metadata": {},
   "source": [
    "## What is a thread"
   ]
  },
  {
   "cell_type": "code",
   "execution_count": null,
   "id": "54200274-12c4-461f-92bf-1ef9c8c61c89",
   "metadata": {},
   "outputs": [],
   "source": []
  }
 ],
 "metadata": {
  "kernelspec": {
   "display_name": "Python 3 (ipykernel)",
   "language": "python",
   "name": "python3"
  },
  "language_info": {
   "codemirror_mode": {
    "name": "ipython",
    "version": 3
   },
   "file_extension": ".py",
   "mimetype": "text/x-python",
   "name": "python",
   "nbconvert_exporter": "python",
   "pygments_lexer": "ipython3",
   "version": "3.10.5"
  }
 },
 "nbformat": 4,
 "nbformat_minor": 5
}
