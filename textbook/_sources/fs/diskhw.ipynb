{
 "cells": [
  {
   "cell_type": "code",
   "execution_count": null,
   "id": "9c997fbc-cacf-4b7d-a521-9eb00e19c323",
   "metadata": {
    "jupyter": {
     "source_hidden": true
    },
    "tags": []
   },
   "outputs": [],
   "source": []
  },
  {
   "cell_type": "code",
   "execution_count": null,
   "id": "16a66064-7627-4521-b2e3-8924673a596e",
   "metadata": {
    "tags": [
     "remove-cell",
     "remove-input",
     "hide-output"
    ]
   },
   "outputs": [],
   "source": [
    "%run -i ../python/common.py\n",
    "publish=False\n",
    "\n",
    "if not publish:\n",
    "    # cleanup any old state\n",
    "    bashCmds('''[[ -d mydir ]] && rm -rf mydir\n",
    "    [[ -a myfile ]] && rm myfile\n",
    "    [[ -a errors ]] && rm errors \n",
    "    [[ -a mydate ]] && rm mydate\n",
    "    [[ -a mynewdir ]] && rm -rf mynewdir\n",
    "    [[ -a anotherfile ]] && rm anotherfile\n",
    "    [[ -a mybin ]] && rm -rf  mybin\n",
    "    [[ -a myinfo ]] && rm myinfo''')\n",
    "else:\n",
    "    bashCmds('''rm -rf ~/*''')\n",
    "    \n",
    "closeAllOpenTtySessions()\n",
    "bash = BashSession()\n",
    "\n",
    "generated=\"~/myfile ~/errors ~/mydate ~/mydir ~/mynewdir ~/out\"\n"
   ]
  },
  {
   "cell_type": "markdown",
   "id": "2d7f0f48-a124-4a3a-a463-5f1fff2c1946",
   "metadata": {},
   "source": [
    "(cont:fs:disks)= \n",
    "# A bit about Disks\n",
    "\n",
    "We will talk more about disks when we discuss devices later.  However, most file systems have been designed to work on **hard disk drives** (often abbreviated as just **hard drives** or **HDDs**), and understanding a bit about them is important to understand how file systems work.  Hard drives record data magnetically on one or more spinning platters in concentric circular tracks ({numref}`fig:cylinders`). Hard disks are *block devices*, meaning that data can only be read from, or written to, the disk in relatively large chunks. The basic unit of access for a hard disk is called a *sector*. Historically, the most common sector size was 512 B, but modern hard disks use 4 KB sectors. Each track on the disk is divided up into some number of sectors.  \n",
    "\n",
    "\n",
    "```{figure} ../images/pb-figures/devs/disk-chs.png\n",
    "---\n",
    "width: 50%\n",
    "name: fig:cylinders\n",
    "\n",
    "---\n",
    "A disk drive contains some number of platters, where the collection of the same track on different platters is called a cylinder.\n",
    "```\n",
    "\n",
    "Data on a drive can be identified by the platter surface it is on, the track on that surface, and finally the sector on that track. To simplify the task of specifying platter, surface, track and sector, hard disks support *Logical Block Addresses* (LBAs) in which the sectors are numbered from 0 to the capacity of the disk. Software layers request data transfers using LBAs, and the drive controller translates these into the required hardware-level information, freeing software from the need to understand the disk geometry. \n",
    "\n",
    "Reading data from a disk (or writing to it) requires the disk drive to perform the following steps:\n",
    "\n",
    "1. Switching the electronics to communicate with the appropriate head; in terms of performance, one can generally ignore this step, because it is fast.\n",
    "\n",
    "2. Performing a **seek** that moves the head assembly until the head is positioned over the target track; the time spent to do this is called the **seek time**.\n",
    "\n",
    "3. Waiting for the platter to rotate until the first bit of the target data is passing under the head; this time is called **rotational latency**.\n",
    "\n",
    "4. Reading or writing until the last bit has passed under the head; this is called the **transfer time**.\n",
    "\n",
    "\n",
    "```{figure} ../images/pb-figures/devs/disk-latency.png\n",
    "---\n",
    "width: 80%\n",
    "name: fig:latency\n",
    "---\n",
    "Operations to read a disk sector.\n",
    "```\n",
    "\n",
    "The seek and rotational latency have a major effect on disk performance. To give an example, consider randomly accessing 4 KB data blocks on a 7200 RPM (i.e., a disk that rotates 7200 times per minute).  The average rotational latency would be 4 ms, i.e., 1/2 the time for a 7200 RPM drive to complete one full rotation.  A typical transfer rate might be around 200 MB/s, so to transfer a 4 KB block it would take $(4/1000)/200 = 0.0002$ seconds = 0.02 ms.  A common seek time for a drive might be around 8 ms. We can see that the transfer time for a small 4 KB block is two orders of magnitude smaller than the positioning delays (seek and rotational latency). \n",
    "\n",
    "Therefore, a file system that resulted in random reads (or writes) across the whole disk, would end up taking $8 + 4 + 0.02 ~= 12$ ms for each block, or having an average throughput of 333 KB/s (i.e., $4/(12/1000)$ ).  If you use the minimum sector size of many disks, at 512 B, you would get only around 41 KB per second, while if you used a 16 KB block, your throughput would go up to around 1.3 MB per second. \n",
    "\n",
    "\n",
    "If, on the other hand, the file system always transferred a 5 MB block, it would require $8 + 4 + 25 = 37$ ms for an average throughput of $134$ MB/s. \n",
    "\n",
    "So, when designing a file system, for performance you want to (1) read relatively big disk blocks, and 2) have data frequently accessed together on the same tracks/cylinder, since seeking to nearby tracks is much faster. \n",
    "\n",
    "Studies of file systems have shown that most files are 4KB or smaller, but most of the storage space is used by a small number of very big files {cite:p}`10.1145/1288783.1288788`."
   ]
  },
  {
   "cell_type": "code",
   "execution_count": 3,
   "id": "d5e1d053-e6cd-4b68-9d2e-d1352da421d5",
   "metadata": {
    "tags": [
     "remove-input"
    ]
   },
   "outputs": [
    {
     "data": {
      "text/plain": [
       "<function matplotlib.pyplot.show(close=None, block=None)>"
      ]
     },
     "execution_count": 3,
     "metadata": {},
     "output_type": "execute_result"
    },
    {
     "data": {
      "image/png": "[encoded data removed]",
      "text/plain": [
       "<Figure size 432x288 with 1 Axes>"
      ]
     },
     "metadata": {
      "needs_background": "light"
     },
     "output_type": "display_data"
    }
   ],
   "source": [
    "%matplotlib inline\n",
    "\n",
    "import matplotlib.pyplot as plt\n",
    "import numpy as np\n",
    "\n",
    "x_kb_in_block = np.array([.5, 1, 4, 8, 12, 16])\n",
    "lables_x_axis = ['512B', '1KB', '4KB','8KB', '12KB', '16KB']\n",
    "tras_in_kbper_msec=np.float32(200.0)\n",
    "\n",
    "# time to transfer a block is KB \n",
    "transfer = (x_kb_in_block/tras_in_kbper_msec)\n",
    "\n",
    "time_per_block = 8 + 4 + transfer\n",
    "kb_per_sec = x_kb_in_block/time_per_block *1000\n",
    "#print(kb_per_sec)\n",
    "\n",
    "default_x_ticks = range(len(x_kb_in_block))\n",
    "\n",
    "plt.xlabel(\"Block size\")\n",
    "plt.ylabel(\"KB per second\")\n",
    "plt.title(\"Throughput for random access requess with different block sizes\")\n",
    "plt.xticks(x_kb_in_block, lables_x_axis)\n",
    "plt.plot(x_kb_in_block, kb_per_sec)\n",
    "plt.show\n"
   ]
  },
  {
   "cell_type": "code",
   "execution_count": 2,
   "id": "967a61c2-ff2b-4358-83c7-139bf9107b25",
   "metadata": {
    "tags": [
     "remove-input"
    ]
   },
   "outputs": [
    {
     "data": {
      "text/plain": [
       "<function matplotlib.pyplot.show(close=None, block=None)>"
      ]
     },
     "execution_count": 2,
     "metadata": {},
     "output_type": "execute_result"
    },
    {
     "data": {
      "image/png": "[encoded data removed]",
      "text/plain": [
       "<Figure size 432x288 with 1 Axes>"
      ]
     },
     "metadata": {
      "needs_background": "light"
     },
     "output_type": "display_data"
    }
   ],
   "source": [
    "import matplotlib.pyplot as plt\n",
    "import numpy as np\n",
    "\n",
    "x_kb_in_block = np.array([1, 4, 16, 64, 256, 1096 ])\n",
    "lables_x_axis = ['1KB', '4KB', '16KB', '64KB', '256KB', '1MB']\n",
    "tras_in_kbper_msec=np.float32(200.0)\n",
    "\n",
    "# time to transfer a block is KB \n",
    "transfer = (x_kb_in_block/tras_in_kbper_msec)\n",
    "\n",
    "time_per_block = 8 + 4 + transfer\n",
    "MB_per_sec = x_kb_in_block/time_per_block\n",
    "\n",
    "default_x_ticks = range(len(x_kb_in_block))\n",
    "\n",
    "plt.title(\"Throughput for random access requess with different block sizes (log x axis)\")\n",
    "\n",
    "plt.xlabel(\"Block size\")\n",
    "plt.ylabel(\"MB per second\")\n",
    "plt.xscale(\"log\")\n",
    "plt.xticks(x_kb_in_block, lables_x_axis)\n",
    "plt.plot(x_kb_in_block, MB_per_sec)\n",
    "plt.show\n"
   ]
  },
  {
   "cell_type": "code",
   "execution_count": null,
   "id": "98e40497-eeb2-46b3-be89-9a619f9ce514",
   "metadata": {},
   "outputs": [],
   "source": []
  }
 ],
 "metadata": {
  "kernelspec": {
   "display_name": "Python 3 (ipykernel)",
   "language": "python",
   "name": "python3"
  },
  "language_info": {
   "codemirror_mode": {
    "name": "ipython",
    "version": 3
   },
   "file_extension": ".py",
   "mimetype": "text/x-python",
   "name": "python",
   "nbconvert_exporter": "python",
   "pygments_lexer": "ipython3",
   "version": "3.10.5"
  }
 },
 "nbformat": 4,
 "nbformat_minor": 5
}
