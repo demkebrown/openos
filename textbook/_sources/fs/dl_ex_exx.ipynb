{
 "cells": [
  {
   "cell_type": "markdown",
   "id": "f4514ac9-aba8-4e86-b86a-7c6ac4c04e19",
   "metadata": {},
   "source": [
    "(fs:dl_ex_exx)=\n",
    "# Disk Layout:Examples of Real World File Systems"
   ]
  }
 ],
 "metadata": {
  "kernelspec": {
   "display_name": "Python 3 (ipykernel)",
   "language": "python",
   "name": "python3"
  },
  "language_info": {
   "codemirror_mode": {
    "name": "ipython",
    "version": 3
   },
   "file_extension": ".py",
   "mimetype": "text/x-python",
   "name": "python",
   "nbconvert_exporter": "python",
   "pygments_lexer": "ipython3",
   "version": "3.10.5"
  }
 },
 "nbformat": 4,
 "nbformat_minor": 5
}
