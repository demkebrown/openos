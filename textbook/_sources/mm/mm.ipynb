{
 "cells": [
  {
   "cell_type": "markdown",
   "id": "1c7126fc-eb31-462e-9b73-ae2a8142ceef",
   "metadata": {
    "tags": []
   },
   "source": [
    "(cont:mm)=\n",
    "# Memory Management\n",
    "\n",
    "- Introduction: Fundamental jobs of the memory manager:\n",
    "    - Abstracting a useful memory model.\n",
    "    - Managing the physical memory on the system.\n",
    "    - Providing and managing a private virtual address space for each user.\n",
    "\n",
    "- The memory manager is responsible for:\n",
    "    - 1.) Managing all of the RAM or physical memory on the whole system. \n",
    "    - 2.) Creating and managing virtual memory for each process. \n",
    "    - 3.) Transitioning the processor(s) between physical memory mode and virtual memory mode as the kernel boots and initializes."
   ]
  },
  {
   "cell_type": "markdown",
   "id": "d049375a-1e7a-42fe-b7e2-941b7410e5b4",
   "metadata": {
    "tags": []
   },
   "source": [
    "(cont:mm:overview)=\n",
    "## Overview of MM\n",
    "- Simple physical memory management.\n",
    "    - Sharing one physical address space.\n",
    "    - Relocating programs.\n",
    "- Virtual memory management: talk about all the advanges \n",
    "    - Segmentation.\n",
    "        - Single segments per address space\n",
    "        - Multiple segments per address space.\n",
    "        - Swapping.\n",
    "        - Compaction.\n",
    "    - Paging: - now it could be unlimited... \n",
    "        - Virtual pages and page frames.\n",
    "        - Virtual address spaces larger than RAM.\n",
    "        - Page tables brief (more later)\n",
    "    - Quick overview of what memory manager needs to do\n",
    "        - compaction \n",
    "        - bringing things in, demand paging\n",
    "            swapping, paging\n",
    "        - deciding what to kick out - reclamation\n",
    "        - anonymous memory\n",
    "        - file backed and caching storage\n",
    "        - example: look at elf, parts of the program..."
   ]
  },
  {
   "cell_type": "markdown",
   "id": "0e9ea9e4-cb5d-4c87-9311-11739fab64fc",
   "metadata": {
    "tags": []
   },
   "source": [
    "(cont:mm:reclaim)=\n",
    "## Memory reclaiming algorithms.\n",
    "- Global page reclaiming\n",
    "   - FIFO, LRU, NRU...\n",
    "- Local page reclaiming\n",
    "   - Reclaiming within a specific address space\n",
    "- Working set page reclaiming"
   ]
  },
  {
   "cell_type": "markdown",
   "id": "05334e9c-2ef0-45a8-9c47-a74783dd089c",
   "metadata": {
    "tags": []
   },
   "source": [
    "(cont:mm:ds)=\n",
    "## Data structures\n",
    "We need to keep track of ... what is free, what is used... \n",
    "- Free lists\n",
    "   - coalescing free memory.\n",
    "- In-use page lists\n",
    "   - active and inactive lists for reclaiming.\n",
    "   - Buffer Cache \n",
    "       - Using RAM to cache file system data & metadata\n",
    "           - Global page hash\n",
    "           - Per file page hash"
   ]
  },
  {
   "cell_type": "markdown",
   "id": "488283d6-a5a9-4092-8237-631367f09fee",
   "metadata": {
    "tags": []
   },
   "source": [
    "(cont:mm:pf)=\n",
    "## Page Faults\n",
    "- File backed page faults\n",
    "- Anonymous page faults\n",
    "- Copy On Write page faults"
   ]
  },
  {
   "cell_type": "markdown",
   "id": "c937e975-e5ca-4190-a105-cc895afc1ab5",
   "metadata": {
    "tags": []
   },
   "source": [
    "(cont:mm:HW)=\n",
    "## Memory management hardware\n",
    "   - Translations\n",
    "       - Page Table entries\n",
    "       - Page tables\n",
    "           - Multiple level page tables\n",
    "           - Page table entries\n",
    "           - Inverted page tables\n",
    "           - Variable page sizes\n",
    "   - TLB - Transpation Lookaside Buffers and entries\n",
    "       - Global TLB entries\n",
    "       - Local TLB entries\n",
    "       - Tagging TLB entries\n",
    "       "
   ]
  },
  {
   "cell_type": "markdown",
   "id": "59f7b278-ae37-4213-915b-c4516e36194f",
   "metadata": {
    "tags": []
   },
   "source": [
    "(cont:mm:dynamics)=\n",
    "## Paging Dynamics\n",
    "- Boot-time\n",
    "- Consuming physical memory\n",
    "   - Kernel page wiring\n",
    "   - Page faults\n",
    "   - Buffer Cache\n",
    "- Freeing physical memory\n",
    "   - Process exiting\n",
    "   - un-mapping\n",
    "   - Page reclaiming\n",
    "       - Paging\n",
    "       - Swapping\n",
    "       - Page cache purging\n",
    "- System shutdown"
   ]
  },
  {
   "cell_type": "markdown",
   "id": "2fe971dc-03bf-4688-940d-0436d84abb54",
   "metadata": {
    "tags": []
   },
   "source": [
    "(cont:mm:linux)=\n",
    "## Memory management in the real world\n",
    "\n",
    "Linux specific memory management - examples from a real system\n"
   ]
  },
  {
   "cell_type": "markdown",
   "id": "b3e05b04-0636-4bea-a0b2-334726a48306",
   "metadata": {},
   "source": [
    "Memory Management Introduction\n",
    "\n",
    "The memory management subsystem has 3 basic responsibilities; \n",
    "1. Providing an abstraction so that every user appears to have total and unique access to all of the memory on the system.  \n",
    "2. Managing all of the physical memory on the system.  \n",
    "3. Providing and managing a unique private virtual address space for every process currently running on the system. \n",
    "\n",
    "Very basic systems do not abstract memory at all.  Instead, programs are loaded directly into physical memory\n",
    "and all the addresses presented to those programs are physical addresses.  This means that programs running in\n",
    "a physical memory model must be relocatable because its not known what address they will be loaded and run at.\n",
    "Being relocatable means that all addresses are either relative or they can be fixed up whenever the program is loaded and/or\n",
    "moved to a different physical address.  \n",
    "\n",
    "No memory abstraction also implies that there is no protection between multiple programs loaded into memory at the same time.\n",
    "If a program takes a wild branch or writes to a random address it will corrupt other programs or even the entire system."
   ]
  },
  {
   "cell_type": "markdown",
   "id": "1a796c0a-43f0-455f-b51c-29ead9ad7ed8",
   "metadata": {},
   "source": [
    "## Notes\n",
    "\n",
    "Refer [here](https://jappavoo.github.io/UndertheCovers/textbook/unix/shellintro.html#arithmetic-expansion) for doing binary math in shell "
   ]
  },
  {
   "cell_type": "code",
   "execution_count": null,
   "id": "87a8b4ac-4fd9-4ef2-9586-896c32c4db02",
   "metadata": {},
   "outputs": [],
   "source": []
  }
 ],
 "metadata": {
  "kernelspec": {
   "display_name": "Python 3 (ipykernel)",
   "language": "python",
   "name": "python3"
  },
  "language_info": {
   "codemirror_mode": {
    "name": "ipython",
    "version": 3
   },
   "file_extension": ".py",
   "mimetype": "text/x-python",
   "name": "python",
   "nbconvert_exporter": "python",
   "pygments_lexer": "ipython3",
   "version": "3.10.5"
  }
 },
 "nbformat": 4,
 "nbformat_minor": 5
}
