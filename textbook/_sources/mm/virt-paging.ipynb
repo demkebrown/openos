{
 "cells": [
  {
   "cell_type": "markdown",
   "id": "40a5367e-a274-4572-a1c8-463bc0cf02f6",
   "metadata": {},
   "source": [
    "(cont:mm:virt-paging)=\n",
    "# Paging"
   ]
  },
  {
   "cell_type": "markdown",
   "id": "d53855ae-abf8-4e7f-b335-8ba51fad6831",
   "metadata": {
    "tags": []
   },
   "source": [
    "## Paged Address Translation\n",
    "\n",
    "Most systems today use paged address translation or paging.  A paged virtual memory system divides both virtual memory and physical memory into fixed size chunks or pieces.  They are known as virtual pages or just pages in the virtual address space and page frames in physical memory.  Each page of virtual memory that is being used maps to a page frame.\n",
    "\n",
    "```{figure} ../images/mm/pagedmem.png\n",
    "---\n",
    "width: 100% \n",
    "name: paged memory\n",
    "---\n",
    "Paged virtual memory example\n",
    "```\n",
    "\n",
    "One benefit of paging over segmentation is that the virtual address space can be much larger than physical memory.  In the segmentation memory model its not possible to run a program that's requires more memory than the system has.  This means a program may run on a system with a large amount of memory and not be able to run on a system with a smaller amount of memory.  On a paged memory system every process has exactly the same size virtual address space typically gigabytes, terabytes or even petabytes on modern systems but only uses a small portion in most cases.  The physical memory is typically much smaller than a single virtual address space, megabytes or gigabytes, and there can be hundreds or even thousands of processes running on a system.  As a process runs on a paged memory system only the virtual pages needed at any moment are required to be in physical memory which is a small subset of the entire amount of physical memory.  The memory management system takes care of insuring that the necessary virtual to physical mappings are in place.  A large program running on a small memory system just runs slower rather than not at all on a paged memory system.\n",
    "\n",
    "Another benefit of paging over segmentation is that a region of virtual memory or memory segment does not need to map physically contiguous memory.  Since the virtual address space is divided into small fixed size pages a virtually contiguous region of memory can map to page frames that are randomly scattered throughout the entire physical memory.  This completely eliminates external fragmentation and therefore the need to perform compaction.  The only fragmentation issue encountered in a page virtual memory system is internal fragmentation of the unused portion of a page at the end of a region of virtual memory.\n",
    "\n",
    "## MMU Memory Management Unit\n",
    "\n",
    "On paged systems the CPU includes special hardware that maintains the virtual to physical page mappings known as the MMU or Memory Management Unit.  Every time a virtual address is referenced the MMU translates that virtual address to a physical address before presenting it to the memory address bus hardware.  \n",
    "\n",
    "\n",
    "\n",
    "We examine a single model of address translation in detail: the one used\n",
    "by the original Pentium, and by any Intel-compatible CPU running in\n",
    "32-bit mode. It uses 32-bit virtual addresses, 32-bit physical\n",
    "addresses, and a page size of 4096 bytes. Since pages are $2^{12}$ bytes\n",
    "each, addresses can be divided into 20-bit page numbers and 12-bit\n",
    "offsets within each page, as shown in\n",
    "[\\[fig:vm:fig5\\]](#fig:vm:fig5){reference-type=\"autoref\"\n",
    "reference=\"fig:vm:fig5\"}\n",
    "\n",
    "\n",
    "![image](../images/pb-figures/mm/virt-mem-pic10.png){height=\"5.5\\\\baselineskip\"}\n",
    "\n",
    "\n",
    "The Memory Management Unit (MMU) maps a 20-bit virtual page number to a\n",
    "20-bit physical page number; the offset can pass through unchanged, as\n",
    "shown in [\\[fig:vm:fig6\\]](#fig:vm:fig6){reference-type=\"autoref\"\n",
    "reference=\"fig:vm:fig6\"}, giving the physical address the CPU should\n",
    "access.\n",
    "\n",
    "![Page number and offset in 32-bit paged translation with 4KB\n",
    "pages](../images/pb-figures/mm/virt-mem-pic9.png){#fig:vm:fig5 width=\"\\\\textwidth\"}\n",
    "\n",
    "Although paged address translation is far more flexible than base and\n",
    "bounds registers, it requires much more information. Base and bounds\n",
    "translation only requires two values, which can easily be held in\n",
    "registers in the MMU. In contrast, paged translation must be able to\n",
    "handle a separate mapping value for each of over a million virtual\n",
    "pages. (although most programs will only map a fraction of those pages)\n",
    "The only possible place to store the amount of information required by\n",
    "paged address translation is in memory itself, so the MMU uses page\n",
    "tables in memory to specify virtual-to-physical mappings."
   ]
  },
  {
   "cell_type": "markdown",
   "id": "f9d632cc-fbe1-4f4b-bc59-4dd1456c10a7",
   "metadata": {
    "jp-MarkdownHeadingCollapsed": true,
    "tags": []
   },
   "source": [
    "### Memory Over-Commitment and Paging\n",
    "\n",
    "Page faults allow data to be dynamically fetched into memory when it is\n",
    "needed, in the same way that the CPU dynamically fetches data from\n",
    "memory into the cache. This allows the operating system to over-commit\n",
    "memory: the sum of all process address spaces can add up to more memory\n",
    "than is available, although the total amount of memory mapped at any\n",
    "point in time must fit into RAM. This means that when a page fault\n",
    "occurs and a page is allocated to a process, another page (from that or\n",
    "another process) may need to be evicted from memory.\n",
    "\n",
    "::: gsidebarN\n",
    "12 **Types of Virtual Segments**: There are two types of virtual\n",
    "segments: file-backed and anonymous. File-backed segments are what the\n",
    "name says; approximately 99.9% of them are read-only mappings of\n",
    "demand-paged executables. Anonymous mappings are called this because\n",
    "they don't correspond to a file; most of them contain writable program\n",
    "data or stacks.\n",
    ":::\n",
    "\n",
    "Evicting a read-only page mapped from a file is simple: just forget the\n",
    "mapping and free the page; if a fault for that page occurs later, the\n",
    "page can be read back from disk. Occasionally pages are mapped\n",
    "read/write from a file, when a program explicitly requests it with\n",
    "`mmap`---in that case the OS can write any modified data back to the\n",
    "file and then evict the page; again it can be paged back from disk if\n",
    "needed again.\n",
    "\n",
    "Anonymous segments such as stack and heap are typically created in\n",
    "memory and do not need to be swapped; however if the system runs low on\n",
    "memory it may evict anonymous pages owned by idle processes, in order to\n",
    "give more memory to the currently-running ones. To do this the OS\n",
    "allocates a location in \"swap space\" on disk: typically a dedicated swap\n",
    "partition in Linux, and the `PAGEFILE.sys` and `/var/vm/swapfile` files\n",
    "in Windows and OSX respectively. The data must first be written out to\n",
    "that location, then the OS can store the page-to-location mapping and\n",
    "release the memory page.  Linux uses page table entries to store the location\n",
    "swapped out pages.  \n",
    "\n",
    "![Page Table Entry with D (dirty)\n",
    "bit](../images/pb-figures/mm/virt-mem-pic106.png){#fig:vm:pic106 width=\"\\\\textwidth\"}"
   ]
  },
  {
   "cell_type": "markdown",
   "id": "f47b2d65-39dc-4c1f-bd71-766658940ce2",
   "metadata": {},
   "source": [
    "## Paging - Avoiding Fragmentation\n",
    "\n",
    "The fragmentation in\n",
    "[\\[fig:vm:fig2\\]](#fig:vm:fig2){reference-type=\"autoref\"\n",
    "reference=\"fig:vm:fig2\"} is termed *external fragmentation*, because the\n",
    "memory wasted is *external* to the regions allocated. This situation can\n",
    "be avoided by *compacting* memory---moving existing allocations around,\n",
    "thereby consolidating multiple blocks of free memory into a single large\n",
    "chunk. This is a slow process, requiring processes to be paused, large\n",
    "amounts of memory to be copied, and base+bounds registers modified to\n",
    "point to new locations[^2].\n",
    "\n",
    "![image](../images/pb-figures/mm/virt-mem-map.png){height=\"8\\\\baselineskip\"}"
   ]
  },
  {
   "cell_type": "markdown",
   "id": "fbf91212-af27-4075-ae5a-3c9e8fd259fa",
   "metadata": {
    "tags": []
   },
   "source": [
    "Instead, modern CPUs use *paged address translation*, which divides the\n",
    "physical and virtual memory spaces into fixed-sized pages, typically\n",
    "4KB, and provides a flexible mapping between virtual and physical pages,\n",
    "as shown in [\\[fig:vm:fig3\\]](#fig:vm:fig3){reference-type=\"autoref\"\n",
    "reference=\"fig:vm:fig3\"}. The operating system can then maintain a list\n",
    "of free physical pages, and allocate them as needed. Because any\n",
    "combination of physical pages may be used for an allocation request,\n",
    "there is no external fragmentation, and a request will not fail as long\n",
    "as there are enough free physical pages to fulfill it."
   ]
  },
  {
   "cell_type": "markdown",
   "id": "c7eedc8e-b5c8-4aa0-bcca-e9bc71eb9dfa",
   "metadata": {
    "tags": []
   },
   "source": [
    "### Internal Fragmentation\n",
    "\n",
    "Paging solves the problem of external fragmentation, there is no wasted space between pages of virtual memory.  However, paging does suffer from\n",
    "another issue, *internal fragmentation*, space may be wasted\n",
    "*inside* the allocated pages. E.g. if 10 KB of memory is allocated in\n",
    "4KB pages, 3 pages (a total of 12 KB) are allocated, and 2KB is wasted.\n",
    "To allocate hundreds of KB in pages of 4KB this is a minor overhead:\n",
    "about $\\frac{1}{2}$ a page, or 2 KB, wasted per allocation. But internal\n",
    "fragmentation makes this approach inefficient for very small allocations\n",
    "(e.g. the `new` operator in C++), as shown in\n",
    "[\\[fig:vm:fig4\\]](#fig:vm:fig4){reference-type=\"autoref\"\n",
    "reference=\"fig:vm:fig4\"}. (It is also one reason why even though most\n",
    "CPUs support multi-megabyte or even multi-gigabyte \"huge\" pages, which\n",
    "are slightly more efficient than 4 KB pages, they are rarely used.)\n",
    "\n",
    "![image](../images/pb-figures/mm/virt-mem-pic7.png){width=\"90%\"}\\"
   ]
  },
  {
   "cell_type": "code",
   "execution_count": null,
   "id": "27f51ef2-bb21-42d7-a1ee-1e80333a6a0b",
   "metadata": {},
   "outputs": [],
   "source": []
  }
 ],
 "metadata": {
  "kernelspec": {
   "display_name": "Python 3 (ipykernel)",
   "language": "python",
   "name": "python3"
  },
  "language_info": {
   "codemirror_mode": {
    "name": "ipython",
    "version": 3
   },
   "file_extension": ".py",
   "mimetype": "text/x-python",
   "name": "python",
   "nbconvert_exporter": "python",
   "pygments_lexer": "ipython3",
   "version": "3.10.5"
  }
 },
 "nbformat": 4,
 "nbformat_minor": 5
}
