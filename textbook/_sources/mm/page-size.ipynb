{
 "cells": [
  {
   "cell_type": "markdown",
   "id": "61bd7290-b583-4e58-a19f-aa7d88e60429",
   "metadata": {},
   "source": [
    "(cont:mm:page-size)=\n",
    "# Page Sizes\n",
    "\n",
    "discussion of page sizes from... "
   ]
  },
  {
   "cell_type": "code",
   "execution_count": null,
   "id": "ee62e4a0-4ee8-473f-b6e5-bb5480812c3c",
   "metadata": {},
   "outputs": [],
   "source": []
  }
 ],
 "metadata": {
  "kernelspec": {
   "display_name": "Python 3 (ipykernel)",
   "language": "python",
   "name": "python3"
  },
  "language_info": {
   "codemirror_mode": {
    "name": "ipython",
    "version": 3
   },
   "file_extension": ".py",
   "mimetype": "text/x-python",
   "name": "python",
   "nbconvert_exporter": "python",
   "pygments_lexer": "ipython3",
   "version": "3.10.5"
  }
 },
 "nbformat": 4,
 "nbformat_minor": 5
}
