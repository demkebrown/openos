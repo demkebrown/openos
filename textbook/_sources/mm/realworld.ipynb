{
 "cells": [
  {
   "cell_type": "markdown",
   "id": "2fe971dc-03bf-4688-940d-0436d84abb54",
   "metadata": {
    "tags": []
   },
   "source": [
    "(cont:mm:realworld)=\n",
    "# Memory management in the real world\n",
    "\n",
    "Linux specific memory management - examples from a real system\n"
   ]
  },
  {
   "cell_type": "markdown",
   "id": "b3e05b04-0636-4bea-a0b2-334726a48306",
   "metadata": {},
   "source": []
  },
  {
   "cell_type": "markdown",
   "id": "1a796c0a-43f0-455f-b51c-29ead9ad7ed8",
   "metadata": {},
   "source": [
    "## Notes\n",
    "\n",
    "Refer [here](https://jappavoo.github.io/UndertheCovers/textbook/unix/shellintro.html#arithmetic-expansion) for doing binary math in shell "
   ]
  },
  {
   "cell_type": "code",
   "execution_count": null,
   "id": "87a8b4ac-4fd9-4ef2-9586-896c32c4db02",
   "metadata": {},
   "outputs": [],
   "source": []
  }
 ],
 "metadata": {
  "kernelspec": {
   "display_name": "Python 3 (ipykernel)",
   "language": "python",
   "name": "python3"
  },
  "language_info": {
   "codemirror_mode": {
    "name": "ipython",
    "version": 3
   },
   "file_extension": ".py",
   "mimetype": "text/x-python",
   "name": "python",
   "nbconvert_exporter": "python",
   "pygments_lexer": "ipython3",
   "version": "3.10.5"
  }
 },
 "nbformat": 4,
 "nbformat_minor": 5
}
