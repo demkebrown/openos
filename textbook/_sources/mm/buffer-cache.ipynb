{
 "cells": [
  {
   "cell_type": "markdown",
   "id": "fac46be6-c5a3-4c4e-b0bb-d2f0d7bb7eb9",
   "metadata": {},
   "source": [
    "(cont:mm:buffer-cache)=\n",
    "# Buffer Cache"
   ]
  }
 ],
 "metadata": {
  "kernelspec": {
   "display_name": "Python 3 (ipykernel)",
   "language": "python",
   "name": "python3"
  },
  "language_info": {
   "codemirror_mode": {
    "name": "ipython",
    "version": 3
   },
   "file_extension": ".py",
   "mimetype": "text/x-python",
   "name": "python",
   "nbconvert_exporter": "python",
   "pygments_lexer": "ipython3",
   "version": "3.10.5"
  }
 },
 "nbformat": 4,
 "nbformat_minor": 5
}
