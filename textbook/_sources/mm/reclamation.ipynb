{
 "cells": [
  {
   "cell_type": "markdown",
   "id": "53534567-6e35-4cad-b67f-639299ba8364",
   "metadata": {
    "tags": []
   },
   "source": [
    "(cont:mm:reclamation)=\n",
    "# Memory reclaiming algorithms.\n",
    "- Global page reclaiming\n",
    "   - FIFO, LRU, NRU...\n",
    "- Local page reclaiming\n",
    "   - Reclaiming within a specific address space\n",
    "- Working set page reclaiming"
   ]
  },
  {
   "cell_type": "markdown",
   "id": "440faeb1-23f8-4f45-89f9-3a3f85457f38",
   "metadata": {
    "tags": []
   },
   "source": [
    "### The Memory Hierarchy\n",
    "\n",
    "Demand paging from files and from swap provides the mechanisms to create\n",
    "the traditional memory hierarchy, as shown in\n",
    "(#fig:vm:pic108).\n",
    "\n",
    "------------------------------------------------------------------------\n",
    "\n",
    "```{figure} ../images/pb-figures/mm/virt-mem-pic108.png\n",
    "---\n",
    "width: 45%\n",
    "name: fig:vm:fig108\n",
    "---\n",
    "4-level Memory Hierarchy\n",
    "```\n",
    "\n",
    "To access address A:\n",
    "\n",
    "::: itemize*\n",
    "If it's not in the cache, then the old cache line is evicted, and A is\n",
    "loaded into the resulting empty cache line. This is done in hardware.\n",
    "\n",
    "If it's not in memory, then the old page is evicted, and the page\n",
    "containing A is loaded into the resulting empty page. This is done in\n",
    "software.\n",
    ":::\n",
    "\n",
    "In general, this works because of *locality*: when a cache line is\n",
    "brought in from memory, a page is loaded into in memory from disk, etc.,\n",
    "it tends to get accessed multiple times before eviction.\n",
    "\n",
    "Decades ago this was used to run programs much bigger than physical\n",
    "memory---CPUs were slow and disks were almost as fast as they are today,\n",
    "so the relative overhead of paging infrequently-used data to disk was\n",
    "low. Today's CPUs are thousands of times faster, while disks are only a\n",
    "few times faster, and virtual memory doesn't seem like such a great idea\n",
    "anymore. However it still gets used, even on desktop and laptop systems,\n",
    "to \"steal\" memory from idle programs: if you leave a large program like\n",
    "Chrome or Microsoft Word idle for half an hour while you use another\n",
    "memory-hungry program, memory will be released from the idle process and\n",
    "given to the active one; if you switch back, the original program will\n",
    "run slowly for a while as it swaps these pages back in.\n",
    "\n",
    "#### Review questions\n",
    "\n",
    "::: enumerate\n",
    ":::"
   ]
  },
  {
   "cell_type": "markdown",
   "id": "8c54495a-28b6-4f37-9fe7-d3586f7c3632",
   "metadata": {
    "tags": []
   },
   "source": [
    "### Dirty and Clean Pages\n",
    "\n",
    "How does the operating system determine whether a page has been modified\n",
    "and needs to be written to disk? It uses the D bit in the page table\n",
    "entry for this, as seen in\n",
    "[\\[fig:vm:pic106\\]](#fig:vm:pic106){reference-type=\"autoref\"\n",
    "reference=\"fig:vm:pic106\"}. When a page is mapped in the page table, the\n",
    "D bit in the PTE is set to zero; when the CPU writes to a page with D =\n",
    "0, the MMU re-writes the page table entry with D = 1. When the OS\n",
    "decides to evict a page, the D bit tells it whether the page is \"clean,\"\n",
    "i.e., it hasn't been modified, or whether it is \"dirty\" and has to be\n",
    "written back to disk.\n",
    "\n",
    "When the OS is paging in from a file (e.g. executable code), it is\n",
    "straightforward to find the data to read in, as there is a direct\n",
    "mapping between a range of pages in a specific file and corresponding\n",
    "pages in the virtual memory space. This correspondence can easily be\n",
    "stored in the definition of that virtual address segment. When pages are\n",
    "saved to swap space this doesn't work, however, as the locations they\n",
    "are saved to are allocated dynamically and fairly arbitrarily.\n",
    "\n",
    "This problem is solved by using the page table itself. After evicting a\n",
    "page, its page table entry is invalidated by setting P = 0; however, the\n",
    "other 31 bits of the entry are ignored by the MMU. These bits are used\n",
    "to store the location of the page in swap space, so it can be found\n",
    "later later at page fault time. Thus, the page table entry does dual\n",
    "duty: when the page is present it points to the physical page itself,\n",
    "and is interpreted by the MMU; otherwise, it points to a location in\n",
    "swap space, and is ignored by the MMU and used by the software page\n",
    "fault handler."
   ]
  },
  {
   "cell_type": "markdown",
   "id": "664f863a-f673-4e43-bada-54b4a5f5258b",
   "metadata": {
    "jp-MarkdownHeadingCollapsed": true,
    "tags": []
   },
   "source": [
    "## Page Replacement\n",
    "\n",
    "If there's a limited amount of memory available, then every time a page\n",
    "is swapped in from disk, it will be necessary to remove, or evict,\n",
    "another page from memory. The choice of which page to evict is\n",
    "important: the best page to choose would be one that won't be needed\n",
    "anymore, while the worst page to evict would be one of the next to be\n",
    "used. (in that case, paging it back in would force another page to be\n",
    "evicted, and the work of paging it out and back in again would be\n",
    "wasted.) In fact, replacement of items in a cache is a general problem\n",
    "in computer systems; examples include:\n",
    "\n",
    "::: itemize*\n",
    "Cache line replacement in the hardware CPU cache\n",
    "\n",
    "Entry replacement in the TLB\n",
    "\n",
    "Buffer replacement in a file system buffer pool\n",
    "\n",
    "Page replacement in virtual memory\n",
    ":::\n",
    "\n",
    "The page replacement problem can be stated in abstract form:\n",
    "\n",
    "Given the following:\n",
    "\n",
    "::: compactenum\n",
    "A disk holding $d$ (virtual) pages, with virtual addresses\n",
    "$0,\\ldots d-1$;\n",
    "\n",
    "A memory ${M}$ consisting of $m$ (physical) pages, where each page is\n",
    "either empty or holds one of the $d$ virtual pages, and\n",
    "\n",
    "An access pattern $a_1, a_2, a_3, \\cdots$ where each $a_i$ is a virtual\n",
    "address in the range $(0,d-1)$:\n",
    ":::\n",
    "\n",
    "a demand-paging strategy is an algorithm which for each access $a_i$\n",
    "does the following:\n",
    "\n",
    "::: compactitem\n",
    "If $a_i$ is already in one of the $m$ physical pages in ${M}$ (i.e. a\n",
    "*hit*): do nothing\n",
    "\n",
    "Otherwise (a miss) it must:\n",
    "\n",
    "Select a physical page $j$ in ${M}$ (holding some virtual address $M_j$)\n",
    "and evict it, then\n",
    "\n",
    "Fetch virtual page $a_i$ from disk into physical page $j$\n",
    ":::\n",
    "\n",
    "In other words it only fetches page $j$ *on demand*---i.e. in response\n",
    "to a request for it."
   ]
  },
  {
   "cell_type": "markdown",
   "id": "502a8832-da8e-45e3-bda6-2309b8e48a1a",
   "metadata": {
    "jupyter": {
     "source_hidden": true
    },
    "tags": []
   },
   "source": [
    "## Page Replacement Strategies\n",
    "\n",
    "In this class we consider the following page replacement strategies:\n",
    "\n",
    "::: itemize*\n",
    "FIFO: *first-in first-out*. The page evicted from memory is the first\n",
    "page to have been fetched into memory.\n",
    "\n",
    "LRU: *least-recently used*. Here, accesses to each page are tracked\n",
    "after it has been loaded into memory, and the least-recently-used page\n",
    "is evicted (unsurprisingly, given the name of the strategy).\n",
    "\n",
    "OPT: this is the optimal demand-paged strategy, which is simple but\n",
    "impossible to implement, since it requires knowledge of the future. It's\n",
    "examined because it provides a way of telling how well a real\n",
    "replacement strategy is performing---is it close to OPT, or is it far\n",
    "worse?\n",
    ":::"
   ]
  },
  {
   "cell_type": "markdown",
   "id": "72ac2ac4-ba54-462f-8425-0bce250f8511",
   "metadata": {
    "jupyter": {
     "source_hidden": true
    },
    "tags": []
   },
   "source": [
    "### FIFO\n",
    "\n",
    "![FIFO cleaning](../images/pb-figures/mm/virt-mem-pic107.png){#fig:vm:pic107 width=\"100%\"}\n",
    "\n",
    "This strategy is very simple to implement, as it only requires keeping\n",
    "track of the order in which pages were fetched into memory. Given 4\n",
    "pages in physical memory, and the following access pattern:\n",
    "\n",
    "1 2 3 4 2 1 3 4 5 4 1 2 5 6 3 2 5 2 3 6\n",
    "\n",
    "The contents of memory after each access is shown in\n",
    "[\\[fig:vm:pic107\\]](#fig:vm:pic107){reference-type=\"autoref\"\n",
    "reference=\"fig:vm:pic107\"}, with hits shown in light grey and pages\n",
    "evicted (when misses occur) shown in dark grey.\n",
    "\n",
    "![LRU cleaning](../images/pb-figures/mm/virt-mem-pic109.png){#fig:vm:pic109 width=\"100%\"}"
   ]
  },
  {
   "cell_type": "markdown",
   "id": "80eb2343-ba31-4936-a811-9fea565ab0f3",
   "metadata": {
    "jupyter": {
     "source_hidden": true
    },
    "tags": []
   },
   "source": [
    "### LRU\n",
    "\n",
    "The idea behind LRU is that pages which have been accessed in the recent\n",
    "past are likely to be accessed in the near future, and pages which\n",
    "haven't, aren't. LRU replacement is shown in\n",
    "[\\[fig:vm:pic109\\]](#fig:vm:pic109){reference-type=\"autoref\"\n",
    "reference=\"fig:vm:pic109\"}.\n",
    "\n",
    "To make the operation of the LRU algorithm more clear, on each hit, the\n",
    "accessed page is moved to the top of the column. (This is how LRU is\n",
    "typically implemented in software: elements are kept in a list, and on\n",
    "access, an element is removed and reinserted at the front of the list.\n",
    "The least-recently-used element may then be found by taking the tail of\n",
    "the list) Although this is a small example, a performance improvement is\n",
    "noted, with four misses compared to six for FIFO.\n",
    "\n",
    "![optimal cleaning](../images/pb-figures/mm/virt-mem-pic110.png){#fig:vm:pic110\n",
    "width=\"100%\"}"
   ]
  },
  {
   "cell_type": "markdown",
   "id": "54b4c058-37a3-438a-8612-415aca1705a1",
   "metadata": {
    "jupyter": {
     "source_hidden": true
    },
    "tags": []
   },
   "source": [
    "### OPT\n",
    "\n",
    "The optimal algorithm picks a page to evict by looking forward in time\n",
    "and finding the page which goes for the longest time without being\n",
    "accessed again. Except for seeing the future, OPT plays by the same\n",
    "rules as other demand-paging algorithms: in particular, it can't fetch a\n",
    "page until it is accessed. (That's why the OPT strategy still has\n",
    "misses.) OPT is shown in\n",
    "[\\[fig:vm:pic110\\]](#fig:vm:pic110){reference-type=\"autoref\"\n",
    "reference=\"fig:vm:pic110\"}, using the same access pattern as before. The\n",
    "first eviction decision is shown graphically: pages 4, 2, and 1 are\n",
    "accessed 1, 3, and 2 steps in the future, respectively, while page 3\n",
    "isn't accessed for 6 steps and is thus chosen to be evicted.\n",
    "\n",
    "\\\n",
    "![image](../images/pb-figures/mm/virt-mem-pic111.png){width=\"\\\\textwidth\"}\n",
    "\n",
    "![CLOCK Algorithm](../images/pb-figures/mm/virt-mem-pic112.png){#fig:vm:pic112\n",
    "width=\"\\\\textwidth\"}"
   ]
  },
  {
   "cell_type": "markdown",
   "id": "e58a5ad7-7418-483b-aedc-663e68f786a5",
   "metadata": {
    "jupyter": {
     "source_hidden": true
    },
    "tags": []
   },
   "source": [
    "### FIFO with Second Chance (CLOCK)\n",
    "\n",
    "LRU is simple and quite effective in many caching applications, and it's\n",
    "ideal that the operating system uses it to determine which pages to\n",
    "evict from memory. But there is one small problem in using it in a\n",
    "virtual memory system: in this case, a \"miss\" corresponds to a page\n",
    "fault and fetching a page from disk, while a \"hit\" is when the page is\n",
    "already mapped in memory and the access succeeds in hardware. This means\n",
    "that once a page is faulted into memory, any further use of that page is\n",
    "\"invisible\" to the operating system. If the OS doesn't know when a page\n",
    "was last used, it can't implement the Least-Recently-Used replacement\n",
    "strategy.\n",
    "\n",
    "Despite this issue, it's still possible to do better than FIFO by using\n",
    "the A (\"accessed\") bit in the page table entry, which indicates whether\n",
    "the page has been accessed since the last time the bit was cleared[^18].\n",
    "In [\\[fig:vm:pic111\\]](#fig:vm:pic111){reference-type=\"autoref\"\n",
    "reference=\"fig:vm:pic111\"} we see an algorithm called \"FIFO with second\n",
    "chance,\" where the A bit is used to determine whether a page has been\n",
    "accessed while it was in the FIFO queue. If the A bit is 1, the\n",
    "replacement algorithm clears it and re-writes the page table entry, and\n",
    "the page is given \"another chance,\" i.e., it is cycled back to the head\n",
    "of the list. If the A bit is 0, then there have been no accesses to the\n",
    "page during its entire trip through the list, and so it is selected for\n",
    "replacement."
   ]
  },
  {
   "cell_type": "markdown",
   "id": "0f41cfd7-b55b-4a9d-ad72-4e5d659e17c6",
   "metadata": {},
   "source": [
    "### CLOCK\n",
    "\n",
    "An alternate way of visualizing the FIFO with second chance algorithm is\n",
    "shown in [\\[fig:vm:pic112\\]](#fig:vm:pic112){reference-type=\"autoref\"\n",
    "reference=\"fig:vm:pic112\"}. Pages are arranged in a circle, with a\n",
    "\"hand\" advancing around the circle testing pages and determining whether\n",
    "to keep or evict them. This description is the origin of the widely-used\n",
    "name for this algorithm, CLOCK."
   ]
  }
 ],
 "metadata": {
  "kernelspec": {
   "display_name": "Python 3 (ipykernel)",
   "language": "python",
   "name": "python3"
  },
  "language_info": {
   "codemirror_mode": {
    "name": "ipython",
    "version": 3
   },
   "file_extension": ".py",
   "mimetype": "text/x-python",
   "name": "python",
   "nbconvert_exporter": "python",
   "pygments_lexer": "ipython3",
   "version": "3.10.5"
  }
 },
 "nbformat": 4,
 "nbformat_minor": 5
}
