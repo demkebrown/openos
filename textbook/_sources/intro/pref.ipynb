{
 "cells": [
  {
   "cell_type": "markdown",
   "id": "8b40515b-5687-4546-8932-f239f39aba81",
   "metadata": {
    "tags": []
   },
   "source": [
    "(cont:pref)=\n",
    "# Preface \n",
    "\n",
    "\n",
    "In late 2021 Jonathan Appavoo started discussing with us his vision of creating open source interactive educational materials. You can see an early talk on this [here](https://research.redhat.com/events/steps-toward-open-source-education/). Somehow, we found ourselves committing to writing an operating system textbook, and here we are.   You will find in the repository three kinds of information:\n",
    "\n",
    "1. This textbook which will largely be static content. \n",
    "2. Lab materials which will include significant amounts of interactive content. \n",
    "3. Lecture slides\n",
    "\n",
    "The textbook can be largely read statically; and you can even download a PDF.  However, we strongly recommend using it online going back and forth between different materials via the provided links.  We provide a companion container (an OS concept we discuss [XXX](YYY) which we strongly recommend you keep open alongside the material and use to run exercises.  The lab materials are intended to execute in the container.  Moreover, the container has the curated set of tools that we expect you to use for the course, and provides the same environment as the assignments; you are likely to run into problems if you work on the assignments outside of the container environment and don't expect TAs to help you if you do that. \n"
   ]
  },
  {
   "cell_type": "markdown",
   "id": "bdf45b9e-244c-4965-a1b1-7ca198f44a37",
   "metadata": {
    "tags": []
   },
   "source": [
    "(cont:pref:mot)=\n",
    "## Our motivation\n",
    "\n",
    "Our motivation to write this book is three fold.  First, our students pay way too much money for textbooks. At one point, students could buy used textbooks, although even then publishers would constantly churn editions to get students to buy new versions. Increasingly, textbooks contain interactive materials, that force students to buy the most recent edition; again its about the money.  Free online books (FOB) provide us the opportunity to address this cost issue, while also enabling frequent revisions and extensive linking between different materials.  The motivation for FOB  for operating systems is described in the excellent [blog](http://from-a-to-remzi.blogspot.com/2014/01/the-case-for-free-online-books-fobs.html) by Remzi Arpaci-Dusseau.  Moreover, the  excellent operating system FOB titled \\\"[Operating Systems: Three Easy Pieces](https://pages.cs.wisc.edu/~remzi/OSTEP/)\\\" {cite}`arpaci2018operating`, is enormously better than our effort today.   So why are we developing another FOB?  That leads to our next two reasons. \n",
    "\n",
    "Second, we have found students think in many different ways and repetition  at multiple different levels of detail is incredibly important to understand operating systems.  The Three Easy pieces FOB does a great job of interlinking materials, enabling students to approach the material in multiple ways.  However, with jupyter book and containers we can go much further; enabling dynamic content that is deeply connected to the book.  Our own experience as OS developers and researchers is that we don't understand anything until we have played with code; we how that the model we are developing based on Jonathans OPE will enable us to give students more of that experience.  In fact, as Jonathan articulates so well in the talk referenced above, students today have grown up with so many levels of software complexity obscuring the systems they are using that this interactive experience is critical to enable systems to be approached. \n",
    "\n",
    "Third, as operating system researchers and developers that have experienced the entire growth of open source; we believe that it can be an enormously powerful tool for educational materials.  While we respect Remzi's perspective from {cite}`arpaci2018operating` that \"a book should have a single voice\", at the same time our own frustration of teaching from materials developed by others is that we want others to be able to modify any part of our content to teach operating systems in a way that reflects their background, their community of students, and their own biases.  Feel free to fork our book at make it your own.  We do hope that people will be motivated to offer their changes back to us; and they can do so using the same mechanisms used by community projects like Linux.  Textbooks get out of date soon after they are written; and this is especially the case in operating systems which are one of the most rapidly evolving technical areas.  We believe that only an open source community will be able to create educational materials that evolve as fast as the topics they cover.  Hopefully, we can do a good job and create standards and a community such that the material has a coherent single voice; if not, perhaps someone that is better at it will fork our book and create such a community.  \n",
    "\n"
   ]
  },
  {
   "cell_type": "markdown",
   "id": "8b9cf908-428c-4176-8b1d-ba7710b8b54f",
   "metadata": {},
   "source": [
    "(cont:pref:phil)=\n",
    "## Philosophy\n",
    "\n",
    "This book is not intended to teach you how to program.  It assumes you have mastered programming skills including data structures, algorithms,  the C programming language, make, git, debuggers, test driven development, how loaders work, shell scripting and other tools.  It is also not intended to teach you computer architecture; you should know what an interrupt is, multiprocessors, caches, page tables, ... \n",
    "\n",
    "However, long experience teaching the course has demonstrated that our expectation on background is seldom met.  While students have taken programming courses in the past that covered much of the background; it is covered it as a academic material; when writing the fairly simple code for many courses you could get away without properly writing tests, using a debugger, or even writing a proper makefile.  Moreover, often students have been able to get away with using some GUI that tries to hide what is going on from you. \n",
    "\n",
    "We have found that students only really understand operating system concepts if they have the experience of writing code that illustrates the concepts and are directly using the low-level programming tools that real system developers use.  This code is complicated, don't even try to get by without understanding these materials. \n",
    "\n",
    "The book [Under the Covers: The Secret Life of Software](https://jappavoo.github.io/UndertheCovers/textbook/intro_tb.html#under-the-covers-the-secret-life-of-software) is a companion book, and in a perfect world would be used for a system's course that is a prerequisite for an operating systems course based on this book.  Given that that is not always the case, we will cover some of the same material briefly and refer to the corresponding part of his material for more detail. This includes:\n",
    "- [details on how the shell works, scripting... ](https://jappavoo.github.io/UndertheCovers/textbook/unix/shellintro.html#the-shell-part-i-having-an-ascii-conversation-with-the-os)\n",
    "- [make](https://jappavoo.github.io/UndertheCovers/textbook/unix/make.html#make)\n",
    "- [revision control and git](https://jappavoo.github.io/UndertheCovers/textbook/unix/gitintro.html#intro-to-git)\n",
    "- [assembly language programming](https://jappavoo.github.io/UndertheCovers/textbook/assembly/intro.html#introduction-assembly-programming)\n",
    "- [debugging and gdb](https://jappavoo.github.io/UndertheCovers/textbook/assembly/Debuggers.html#machine-debuggers-open-process-surgery)\n",
    "- [the c programming language](https://jappavoo.github.io/UndertheCovers/textbook/C/intro.html#introduction)\n",
    "\n",
    "Our focus in this book is on operating systems; not on how to be a systems programer.  To succeed in this course, we strongly advice covering the above material in more depth than we can as a small part of this course. \n",
    "\n",
    "\n"
   ]
  },
  {
   "cell_type": "markdown",
   "id": "02bb7e56-4478-4233-ba5b-d40156ae4e52",
   "metadata": {},
   "source": [
    "(cont:pref:how)=\n",
    "## How to read it\n",
    "\n",
    "For detailed instructions on how to read this book, please refer [here](https://jappavoo.github.io/UndertheCovers/textbook/howto.html#how-to-read-this-book) for directions for the systems book.  Discuss three parts of book.\n"
   ]
  },
  {
   "cell_type": "code",
   "execution_count": null,
   "id": "6004af2b-4e80-454a-b0c1-ef0e2265113d",
   "metadata": {},
   "outputs": [],
   "source": []
  }
 ],
 "metadata": {
  "kernelspec": {
   "display_name": "Python 3 (ipykernel)",
   "language": "python",
   "name": "python3"
  },
  "language_info": {
   "codemirror_mode": {
    "name": "ipython",
    "version": 3
   },
   "file_extension": ".py",
   "mimetype": "text/x-python",
   "name": "python",
   "nbconvert_exporter": "python",
   "pygments_lexer": "ipython3",
   "version": "3.10.5"
  }
 },
 "nbformat": 4,
 "nbformat_minor": 5
}
