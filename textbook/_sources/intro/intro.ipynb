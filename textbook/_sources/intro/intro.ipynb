{
 "cells": [
  {
   "cell_type": "markdown",
   "id": "d8a9b200-1e1c-41f2-81e3-2a132b3d869b",
   "metadata": {
    "tags": []
   },
   "source": [
    "(cont:gs:intro)= \n",
    "# Introduction"
   ]
  },
  {
   "cell_type": "markdown",
   "id": "7381984c-008c-4938-b3af-b68493b5b250",
   "metadata": {},
   "source": [
    "This part of the book gives an overview of everything you will learn in more detail in the rest of the book.  We start by discussing the [purpose](cont:gs:purpose) of operating systems today, why it is so valuable to understand them, and some of the reasons we expect operating systems to continue to evolve rapidly in coming years. The next chapter describes the fundamental [structure](cont:gs:structure) of today's monolithic operating systems, and how applications and devices interact with the OS. We then discuss some of the [core abstractions](cont:gs:abstractions) of operating systems and of Unix/Linux in particular.  The final chapter on [tools](cont:gs:tools) reviews the fundamental tools that we expect you to master on using Unix to develop system software. "
   ]
  },
  {
   "cell_type": "markdown",
   "id": "b7bb4982-0751-48ae-8289-61daf644e127",
   "metadata": {},
   "source": [
    "```{sidebar} Abbreviations, Definitions and Notation: \n",
    "It is common to abbreviate \"operating system\" as \"OS\" and \"operating systems\" as \"OSs\".\n",
    "```"
   ]
  },
  {
   "cell_type": "markdown",
   "id": "0b929fb1-552c-46a9-87ec-1754c0115e8d",
   "metadata": {},
   "source": [
    "```{sidebar} Abbreviations, Definitions and Notation:\n",
    "Remember that numbers in computer systems are typically presented as a power of two, for example 1 kilobyte = $2^{10}$ bytes = 1024 bytes. We will be using the common abbreviations for units as shown in the table below:\n",
    "\n",
    "| Value | Binary Prefix | Abbreviation\n",
    "| :-- | -- | --: |\n",
    "| $1024 = 2^{10}$ | kilo | K |\n",
    "| $1024^2 = 2^{20}$ | mega | M |\n",
    "| $1024^3 = 2^{30}$ | giga | G |\n",
    "| $1024^4 = 2^{40}$ | tera | T |\n",
    "| $1024^5 = 2^{50}$ | peta | P |\n",
    "\n",
    "In units, \"bytes\" are abbreviated with an upper-case B and \"bits\" with a lower-case b, so 1 kilobyte = 1 KB = 8 Kb.\n",
    "```"
   ]
  }
 ],
 "metadata": {
  "kernelspec": {
   "display_name": "Python 3 (ipykernel)",
   "language": "python",
   "name": "python3"
  },
  "language_info": {
   "codemirror_mode": {
    "name": "ipython",
    "version": 3
   },
   "file_extension": ".py",
   "mimetype": "text/x-python",
   "name": "python",
   "nbconvert_exporter": "python",
   "pygments_lexer": "ipython3",
   "version": "3.10.5"
  }
 },
 "nbformat": 4,
 "nbformat_minor": 5
}
