{
 "cells": [
  {
   "cell_type": "markdown",
   "id": "d8a9b200-1e1c-41f2-81e3-2a132b3d869b",
   "metadata": {},
   "source": [
    "# Introduction"
   ]
  },
  {
   "cell_type": "markdown",
   "id": "7381984c-008c-4938-b3af-b68493b5b250",
   "metadata": {},
   "source": [
    "Outline:\n",
    " 1. purpose of operating systems\n",
    "   3. a bit of history\n",
    "   4. core OS services \n",
    "      - processors - processes/threads/scheduling\n",
    "      - memory & memory management\n",
    "      - disks and file systems\n",
    "   5. Operating system structure, system calls and interrupts\n",
    "\n",
    "Refer and steal some content from [here](https://jappavoo.github.io/UndertheCovers/textbook/unix/intro.html#operating-systems-and-unix)"
   ]
  },
  {
   "cell_type": "markdown",
   "id": "9ba9a1b3-1ad0-4eb2-b918-80319b255580",
   "metadata": {},
   "source": [
    "## Operating System Structure\n",
    "\n",
    "As shown in figure {ref}`struc-fig`, most operating systems today have ... \n",
    "\n",
    "\n",
    "```{figure} ../images/osstructure-1.drawio.png\n",
    "---\n",
    "height: 150px\n",
    "name: struc-fig\n",
    "---\n",
    "Tradition operating systems monolithic, at the bottom, the kernel is trusted code...\n",
    "```"
   ]
  },
  {
   "cell_type": "markdown",
   "id": "0b02f886-ecaa-4fcf-bc75-a7cfa08f675b",
   "metadata": {},
   "source": [
    "## Shell\n",
    "\n",
    "This is a place where we can steal snippets from [here](https://jappavoo.github.io/UndertheCovers/textbook/unix/intro.html#operating-systems-and-unix) but we want a short repeat in this book. Say for more detail on terminals and shells.. refer to corresponding sections of jonathan's book. \n",
    "\n",
    "- [discussion paths, and type...](https://jappavoo.github.io/UndertheCovers/textbook/unix/shellintro.html#commands-as-files-within-the-path-list) up front, the command to ls everything here and finding all the programs in path is very cool.\n"
   ]
  },
  {
   "cell_type": "markdown",
   "id": "f5c43e8d-dec0-42a3-b21e-0ecdb6c05241",
   "metadata": {},
   "source": [
    "## Everything is a file\n",
    "\n",
    "use some of these \n",
    "\n",
    "```\n",
    "ls -l /proc/$$/fd/{0..2}\n",
    "lrwx------. 1 jovyan root 64 Aug  7 02:10 /proc/6121/fd/0 -> /dev/pts/2\n",
    "lrwx------. 1 jovyan root 64 Aug  7 02:10 /proc/6121/fd/1 -> /dev/pts/2\n",
    "lrwx------. 1 jovyan root 64 Aug  7 02:10 /proc/6121/fd/2 -> /dev/pts/2\n",
    "\n",
    "file /dev/pts/2\n",
    "/dev/pts/2: character special (136/2)\n",
    "```\n"
   ]
  },
  {
   "cell_type": "code",
   "execution_count": null,
   "id": "a695361d-2091-4cda-bc86-c9e41700e617",
   "metadata": {},
   "outputs": [],
   "source": []
  }
 ],
 "metadata": {
  "kernelspec": {
   "display_name": "Python 3 (ipykernel)",
   "language": "python",
   "name": "python3"
  },
  "language_info": {
   "codemirror_mode": {
    "name": "ipython",
    "version": 3
   },
   "file_extension": ".py",
   "mimetype": "text/x-python",
   "name": "python",
   "nbconvert_exporter": "python",
   "pygments_lexer": "ipython3",
   "version": "3.10.5"
  }
 },
 "nbformat": 4,
 "nbformat_minor": 5
}
