{
 "cells": [
  {
   "cell_type": "markdown",
   "id": "98eeffc9-fe83-4745-8c59-50184c1537e7",
   "metadata": {},
   "source": [
    "# Other OS structures"
   ]
  },
  {
   "cell_type": "markdown",
   "id": "10d950fc-81ae-4cfb-b092-e006f4c5c92e",
   "metadata": {},
   "source": [
    "There are a variety of other structures, especially in the research community\n"
   ]
  },
  {
   "cell_type": "markdown",
   "id": "7cb53a5d-769a-42ee-a6e4-3cf20a18bada",
   "metadata": {},
   "source": [
    "## Micro-kernel"
   ]
  },
  {
   "cell_type": "markdown",
   "id": "5145554f-3824-439c-99d6-220019533cc4",
   "metadata": {},
   "source": [
    "## Unikernel/Library OS"
   ]
  },
  {
   "cell_type": "code",
   "execution_count": null,
   "id": "45e2f250-4dad-4337-800a-5a2e308b774b",
   "metadata": {},
   "outputs": [],
   "source": []
  }
 ],
 "metadata": {
  "kernelspec": {
   "display_name": "Python 3 (ipykernel)",
   "language": "python",
   "name": "python3"
  },
  "language_info": {
   "codemirror_mode": {
    "name": "ipython",
    "version": 3
   },
   "file_extension": ".py",
   "mimetype": "text/x-python",
   "name": "python",
   "nbconvert_exporter": "python",
   "pygments_lexer": "ipython3",
   "version": "3.10.5"
  }
 },
 "nbformat": 4,
 "nbformat_minor": 5
}
