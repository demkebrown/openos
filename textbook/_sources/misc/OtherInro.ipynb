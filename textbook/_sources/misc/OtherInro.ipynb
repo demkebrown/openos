{
 "cells": [
  {
   "cell_type": "markdown",
   "id": "e3aaa0b0-ff8a-4a81-b2bd-3f9322fa60bf",
   "metadata": {},
   "source": [
    "```{warning}\n",
    "This portion of the book is under construction, not ready to be read\n",
    "```"
   ]
  },
  {
   "cell_type": "markdown",
   "id": "70115f3e-0155-43f7-b4ca-14f030023898",
   "metadata": {},
   "source": [
    "(cont:other:intro)=\n",
    "# Overview of other topics\n",
    "This part of the book discusses various topics that we want to at least introduce to the student. "
   ]
  }
 ],
 "metadata": {
  "kernelspec": {
   "display_name": "Python 3 (ipykernel)",
   "language": "python",
   "name": "python3"
  },
  "language_info": {
   "codemirror_mode": {
    "name": "ipython",
    "version": 3
   },
   "file_extension": ".py",
   "mimetype": "text/x-python",
   "name": "python",
   "nbconvert_exporter": "python",
   "pygments_lexer": "ipython3",
   "version": "3.10.5"
  }
 },
 "nbformat": 4,
 "nbformat_minor": 5
}
