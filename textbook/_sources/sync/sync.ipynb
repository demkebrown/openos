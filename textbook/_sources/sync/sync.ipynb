{
 "cells": [
  {
   "cell_type": "markdown",
   "id": "19b2e306-8ddd-410e-9744-b264b713cd01",
   "metadata": {},
   "source": [
    "```{warning}\n",
    "This portion of the book is under construction, not ready to be read\n",
    "```"
   ]
  },
  {
   "cell_type": "markdown",
   "id": "333d054c-7921-4f34-a537-9d7228007335",
   "metadata": {
    "tags": []
   },
   "source": [
    "(cont:conc:intro)=\n",
    "# Introduction to Concurrency, Synchronization and Deadlock\n",
    "\n",
    "One of the key responsibilities of an operating system is that of synchronization---handling concurrent events in a reasonable way, and providing mechanisms for user applications to do so as well."
   ]
  },
  {
   "cell_type": "markdown",
   "id": "61b345fb-e652-46df-91fb-6a6caeef4b45",
   "metadata": {},
   "source": [
    "1. {ref}`interprocess communication and need to share <cont:sync:sharing>`\n",
    "   - system calls to enable: shared memory region, shmat, (reference back pipes)\n",
    "   - short statement we have parallel hardware, lots of cores... \n",
    "   - leads to threads from the perspective of we want work on same data...\n",
    "1. locking\n",
    "1. deadlock\n",
    "1. challenge modern hardware\n",
    "   - NUMA, caches... \n",
    "   - sequential consistency, processor consistency... C++11 memory model (possible part 4)\n",
    "   - scalability, lock granularity\n",
    "1. locking in linux"
   ]
  },
  {
   "cell_type": "code",
   "execution_count": null,
   "id": "a6b8546c-9cda-4693-8353-eb81db076b8e",
   "metadata": {},
   "outputs": [],
   "source": []
  }
 ],
 "metadata": {
  "kernelspec": {
   "display_name": "Python 3 (ipykernel)",
   "language": "python",
   "name": "python3"
  },
  "language_info": {
   "codemirror_mode": {
    "name": "ipython",
    "version": 3
   },
   "file_extension": ".py",
   "mimetype": "text/x-python",
   "name": "python",
   "nbconvert_exporter": "python",
   "pygments_lexer": "ipython3",
   "version": "3.10.5"
  }
 },
 "nbformat": 4,
 "nbformat_minor": 5
}
