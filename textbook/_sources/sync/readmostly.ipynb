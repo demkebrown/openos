{
 "cells": [
  {
   "cell_type": "code",
   "execution_count": 1,
   "id": "44083773-7831-4c1f-ac34-3f9fa2e5b288",
   "metadata": {
    "tags": [
     "remove-output",
     "remove-cell",
     "remove-input"
    ]
   },
   "outputs": [],
   "source": [
    "%run -i ../python/common.py\n",
    "publish=False\n",
    "\n",
    "if not publish:\n",
    "    # cleanup any old state\n",
    "    # demke - fill in as we see what state gets generated in this page.\n",
    "    bashCmds('''[[ -d mydir ]] && rm -rf mydir\n",
    "    #''')\n",
    "else:\n",
    "    bashCmds('''rm -rf ~/*''')\n",
    "    \n",
    "closeAllOpenTtySessions()\n",
    "\n",
    "import pandas as pd\n",
    "#import seaborn as sns\n",
    "import matplotlib.pyplot as plt"
   ]
  },
  {
   "cell_type": "code",
   "execution_count": 2,
   "id": "6eb3bc99-4c9f-41c8-8505-8011780d847e",
   "metadata": {
    "tags": [
     "remove-input"
    ]
   },
   "outputs": [],
   "source": [
    "appdir=os.getenv('HOME')\n",
    "appdir=appdir + \"/sync\"\n",
    "output = runTermCmd(\"[[ -d \" + appdir + \" ]] &&  rm -rf \"+ appdir + \n",
    "             \";cp -r ../src/sync \" + appdir)\n",
    "\n",
    "bash = BashSession(cwd=appdir)"
   ]
  },
  {
   "cell_type": "markdown",
   "id": "9441ba8c-a814-4083-a3d4-df39a731d06e",
   "metadata": {
    "tags": []
   },
   "source": [
    "(cont:sync:readmostly)=\n",
    "# Read-Dominated Workloads\n",
    "\n",
    "There are many scenarios in operating systems and other concurrent software where certain data structures are frequently read, but rarely updated. For example, the OS caches network routing information, but route updates are infrequent compared to route lookups in the cache. Since read-only accesses cannot conflict with each other, we would like to allow \"readers\" to execute concurrently with each other (sharing access to the data structure), while \"writers\" must not be allowed to conflict with either readers or other writers. We will look at two ways to solve this problem: classical reader-writer locks (rw_locks), and read-copy-update (RCU). \n",
    "\n",
    "(cont:sync:readmostly:rw_locks)=\n",
    "## Reader-Writer Locks\n",
    "\n",
    "Courtois et al. first described the reader-writer problem and two solutions using semaphores for mutual exclusion in 1971 {cite}`10.1145/362759.362813`. In the first version of the problem, readers have priority over writers: a reader thread should never be prevented from accessing the resource unless a writer has already been granted exclusive use of the resource. We show the solution for this reader-priority version in {numref}`listing:sync:readmostly:readerpri` using POSIX semaphores. Note that since the semaphores are used only for mutual exclusion, we could replace them with `pthread_mutex_t` or any of our spinlock implementations without making any other changes. We represent access to some shared database with the `read_db()` and `write_db()` functions. \n",
    "\n",
    "```{literalinclude} /src/sync/readerpri.c\n",
    ":linenos:\n",
    ":emphasize-lines: 11, 13, 19-25, 29-35\n",
    ":start-after: Begin Courtois\n",
    ":end-before: End Courtois\n",
    ":name: listing:sync:readmostly:readerpri\n",
    ":caption: Reader/writer solution using semaphores; readers have priority over writers.\n",
    "```"
   ]
  },
  {
   "cell_type": "code",
   "execution_count": 3,
   "id": "65e7076a-1949-4dd7-a458-e2cb23051c83",
   "metadata": {
    "tags": [
     "remove-output",
     "remove-cell",
     "remove-input"
    ]
   },
   "outputs": [
    {
     "data": {
      "text/markdown": [
       "<font size=\"1.2rem\"><b>readerpri.c - Full source code for readers/writers solution with semaphores</b>\n",
       "<div style=\"width:100%; height:100%; font-size:inherit; overflow: auto;\" >\n",
       "\n",
       "\n",
       "``` \n",
       " 1: #include <pthread.h>\n",
       " 2: #include <stdlib.h>\n",
       " 3: #include <sys/types.h>\n",
       " 4: #include <unistd.h>\n",
       " 5: #include <string.h>\n",
       " 6: #include <stdio.h>\n",
       " 7: #include <semaphore.h>\n",
       " 8: \n",
       " 9: /* Begin Courtois et al. reader/writer semaphore solution with reader priority here */\n",
       "10: extern void read_db();\n",
       "11: extern void write_db();\n",
       "12: \n",
       "13: sem_t counter_mutex; /* Initially 1 */\n",
       "14: sem_t data_mutex;    /* Initially 1 */\n",
       "15: \n",
       "16: int reader_count = 0;\n",
       "17: \n",
       "18: static void *writer_thread(void *arg)\n",
       "19: {\n",
       "20:     sem_wait(&data_mutex);\n",
       "21:     write_db();\n",
       "22:     sem_post(&data_mutex);\n",
       "23: }\n",
       "24: \n",
       "25: static void *reader_thread(void *arg)\n",
       "26: {\n",
       "27:     \n",
       "28:     sem_wait(&counter_mutex);\n",
       "29:     reader_count++;\n",
       "30:     if (reader_count == 1) {\n",
       "31:         /* first reader synchronizes with writers to acquire the resource */\n",
       "32:         sem_wait(&data_mutex);\n",
       "33:     }\n",
       "34:     sem_post(&counter_mutex);\n",
       "35:     \n",
       "36:     read_db();\n",
       "37:     \n",
       "38:     sem_wait(&counter_mutex);\n",
       "39:     reader_count--;\n",
       "40:     if (reader_count == 0) {\n",
       "41:         /* last reader releases the resource */\n",
       "42:         sem_post(&data_mutex);\n",
       "43:     }\n",
       "44:     sem_post(&counter_mutex);\n",
       "45:     \n",
       "46:     return (void *)0;\n",
       "47: }\n",
       "48: /* End Courtois et al. reader/writer semaphore solution with reader priority. */\n",
       "49: \n",
       "50: \n",
       "51: int main(int argc, char **argv)\n",
       "52: {\n",
       "53:     pthread_t *tids;\n",
       "54:     long niters;\n",
       "55:     int nreaders, nwriters, i;\n",
       "56:     \n",
       "57:     if (argc != 4) {\n",
       "58:         fprintf(stderr,\"Usage: %s <num_readers> <num_writers> <num_iters>\\n\",argv[0]);\n",
       "59:         return 1;\n",
       "60:     }\n",
       "61: \n",
       "62:     nreaders = atoi(argv[1]);\n",
       "63:     nwriters = atoi(argv[2]);\n",
       "64:     niters = atoi(argv[3]);\n",
       "65:     \n",
       "66:     printf(\"Main thread: Beginning test with %d readers and %d writers\\n\", nreaders, nwriters);\n",
       "67:     sem_init(&counter_mutex, 0, 1);\n",
       "68:     sem_init(&data_mutex, 0, 1);\n",
       "69:     \n",
       "70:     tids = (pthread_t *)malloc((nreaders + nwriters) * sizeof(pthread_t));\n",
       "71:     \n",
       "72:     /* We create the same number of increment and decrement threads, each doing the same number of iterations. \n",
       "73:      * When all threads have completed, we expect the final value of the shared counter to be the same as its\n",
       "74:      * initial value (i.e., 0).\n",
       "75:      */\n",
       "76:     for (i = 0; i < nreaders; i++) {\n",
       "77:         (void)pthread_create(&tids[i], NULL, reader_thread, (void *)niters );\n",
       "78:     }\n",
       "79:     \n",
       "80:     for(i = 0; i < nwriters; i++) {\n",
       "81:         (void)pthread_create(&tids[i+nreaders], NULL, writer_thread, (void *)niters );\n",
       "82:     }\n",
       "83:     \n",
       "84:     /* Wait for child threads to finish */\n",
       "85:     for (i = 0; i < (nreaders+nwriters); i++) {\n",
       "86:         pthread_join(tids[i], NULL);\n",
       "87:     }\n",
       "88:     \n",
       "89:     printf(\"Main thread: all done.\\n\");\n",
       "90: \n",
       "91:     return 0;\n",
       "92: }\n",
       "\n",
       "```\n",
       "\n",
       "\n",
       "</div>\n",
       "</font>"
      ],
      "text/plain": [
       "<IPython.core.display.Markdown object>"
      ]
     },
     "metadata": {},
     "output_type": "display_data"
    }
   ],
   "source": [
    "# demke:\n",
    "# \n",
    "# This cell is removed in the html, but displays the code in the Jupyter notebook.\n",
    "#\n",
    "\n",
    "display(Markdown('<font size=\"1.2rem\">' + FileCodeBox(\n",
    "    file=appdir + \"/readerpri.c\", \n",
    "    lang=\"\", \n",
    "    number=True,\n",
    "    title=\"<b>readerpri.c - Full source code for readers/writers solution with semaphores</b>\",\n",
    "    h=\"100%\", \n",
    "    w=\"100%\"\n",
    ") + '</font>'))\n"
   ]
  },
  {
   "cell_type": "markdown",
   "id": "fc1f19d6-8d14-4f4f-9771-56353b52077c",
   "metadata": {},
   "source": [
    "The writer code (lines 11-13) is very simple. We introduce a `mutex` semaphore (line 4) to protect access to the shared data. The `wait` on `mutex` at line 11 ensures that only one writer can be accessing the data at any time; when the writer is done, it `post`s a notice to `mutex` that the data is now available again (line 13). In previous locking scenarios, the reader code would be symmetrical, with each reader also waiting for the `mutex` and `post`ing when it was done. Because we want to allow multiple readers, the reader code needs to do a little more work, however. First, we want to keep track of the number of readers currently accessing the data, so we introduce a `reader_count` variable (line 7), and since this variable will be updated by every reader thread, we also add a `counter_mutex` semaphore (line 5) to protect sections of code that depend on the `reader_count`. Each reader thread begins by `wait`ing for the `counter_mutex`, then increments `reader_count` to add itself to the count of current readers (lines 19-20). Only the first reader thread needs to synchronize with writer threads (lines 21-24)---once a reader has successfully `wait`ed for the `mutex`, writers will be locked out until all the readers are done. Notice also that the first reader does not `post` to the `counter_mutex` until *after* it has obtained permission to access the data (line 25). This ensures that other reader threads must line up `wait`ing for the `counter_mutex` as long as a writer is accessing the data. When a reader finishes using the data, it must again `wait` for the `counter_mutex` to subtract itself from the count of current readers (lines 29-30). When the `reader_count` falls to zero, it means that the last reader thread is done using the data, and this last thread must `post` a signal to the `mutex` to indicate that the data is available again (lines 31-34). If any writers are waiting, one will be allowed to proceed.\n",
    "\n",
    "The reader code illustrates the *lightswitch pattern* in concurrent programming: the analogy is that the first person into a dark room turns on the light (acquires the resource), and the last one to leave turns it off (releases the resource). \n",
    "\n",
    "We can encapsulate the *entry* sections of code (line 11 for writers; lines 19-25 for readers) and the *exit* sections of code (line 13 for writers; lines 29-35 for readers) into acquire and release functions for reader/writer locks. This code is shown in {numref}`listing:sync:readmostly:rwlock`:\n",
    "\n",
    "```{literalinclude} /src/sync/rwlock.h\n",
    ":linenos:\n",
    ":name: listing:sync:readmostly:rwlock\n",
    ":caption: C source code for reader/writer locks using semaphores.\n",
    "```\n"
   ]
  },
  {
   "cell_type": "code",
   "execution_count": null,
   "id": "57d49ec8-183a-4f97-b63a-8bb2f9c275c8",
   "metadata": {
    "tags": [
     "remove-output",
     "remove-input",
     "remove-cell"
    ]
   },
   "outputs": [],
   "source": [
    "# demke:\n",
    "# \n",
    "# This cell is removed in the html, but displays the code in the Jupyter notebook.\n",
    "#\n",
    "\n",
    "display(Markdown('<font size=\"1.2rem\">' + FileCodeBox(\n",
    "    file=appdir + \"/readerpri.c\", \n",
    "    lang=\"\", \n",
    "    number=True,\n",
    "    title=\"<b>rwlock.h - Source code for reader/writer locks using semaphores</b>\",\n",
    "    h=\"100%\", \n",
    "    w=\"100%\"\n",
    ") + '</font>'))"
   ]
  },
  {
   "cell_type": "markdown",
   "id": "c18a7063-00b4-47f4-b7be-4ddb6105b21a",
   "metadata": {},
   "source": [
    "We could combine the release functions and just have a single `rwlock_release()` function invoked by either reader or writer threads. When a writer releases the lock, the `reader_count` should already be `0`; in that case we skip decrementing `reader_count` and just post to the `mutex`. This is the approach taken by the pthreads library implementation of reader/writer locks (`man -k pthread_rwlock`). "
   ]
  },
  {
   "cell_type": "markdown",
   "id": "448d7bb7-efb9-4211-97a0-f2d020226e1d",
   "metadata": {},
   "source": [
    "In this implementation of rwlocks, intensive read activity could starve writer threads. An alternative is to give writers priority: as soon as a writer thread requests access to the shared data, no new reader threads are allowed access until the writer is done using the data. The writer must still wait for existing reader threads to finish and release the data, but writers will not starve. If write activity is intense enough to worry about starving readers, then rwlocks are probably not a good choice anyway. \n",
    "\n",
    "## Performance of rwlocks\n",
    "\n",
    "To be added. \n",
    "\n",
    "(cont:sync:readmostly:rcu)=\n",
    "## Read-Copy Update\n"
   ]
  }
 ],
 "metadata": {
  "kernelspec": {
   "display_name": "Python 3 (ipykernel)",
   "language": "python",
   "name": "python3"
  },
  "language_info": {
   "codemirror_mode": {
    "name": "ipython",
    "version": 3
   },
   "file_extension": ".py",
   "mimetype": "text/x-python",
   "name": "python",
   "nbconvert_exporter": "python",
   "pygments_lexer": "ipython3",
   "version": "3.10.5"
  }
 },
 "nbformat": 4,
 "nbformat_minor": 5
}
