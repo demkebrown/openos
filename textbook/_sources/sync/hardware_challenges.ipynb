{
 "cells": [
  {
   "cell_type": "markdown",
   "id": "fe630732-dfab-4028-95c3-1908a018983a",
   "metadata": {},
   "source": [
    "(cont:sync:hardware_challenge)=\n",
    "# Challenges of Modern Hardware"
   ]
  },
  {
   "cell_type": "markdown",
   "id": "d109271b-1c6f-40c9-9071-1d74056eec55",
   "metadata": {},
   "source": [
    "Describe how modern hardware makes high-performance synchronization challenging\n",
    "1. caches, NUMA, ...\n",
    "1. memory consistency models (sequential consistency, processor consistency…) and the C++11 memory model (possible part 4)\n",
    "1. scalability, lock granularity"
   ]
  }
 ],
 "metadata": {
  "kernelspec": {
   "display_name": "Python 3 (ipykernel)",
   "language": "python",
   "name": "python3"
  },
  "language_info": {
   "codemirror_mode": {
    "name": "ipython",
    "version": 3
   },
   "file_extension": ".py",
   "mimetype": "text/x-python",
   "name": "python",
   "nbconvert_exporter": "python",
   "pygments_lexer": "ipython3",
   "version": "3.10.5"
  }
 },
 "nbformat": 4,
 "nbformat_minor": 5
}
