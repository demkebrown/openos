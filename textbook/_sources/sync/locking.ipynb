{
 "cells": [
  {
   "cell_type": "markdown",
   "id": "4be792c0-f3e6-474a-bd0c-6985e37df81a",
   "metadata": {},
   "source": [
    "(cont:sync:locking)=\n",
    "# Synchronization Primitives"
   ]
  },
  {
   "cell_type": "markdown",
   "id": "98b730ca-778a-464b-b02e-f2104d6026af",
   "metadata": {},
   "source": [
    "Introduce various solutions to the critical section problem here.\n",
    "1. Locks (Mutex)\n",
    "    1. Software solutions (Dekker, Peterson)\n",
    "    1. Spinlocks + hardware atomic instructions (TAS, CAS, LL/SC)\n",
    "    1. Sleep locks\n",
    "1. Semaphores\n",
    "1. Monitors\n",
    "\n",
    "Classic synchronization problems solved in various ways.\n",
    "1. Bank account withdraw / deposit\n",
    "1. Bounded buffer problem (producer / consumer)\n",
    "1. Readers / Writers\n"
   ]
  }
 ],
 "metadata": {
  "kernelspec": {
   "display_name": "Python 3 (ipykernel)",
   "language": "python",
   "name": "python3"
  },
  "language_info": {
   "codemirror_mode": {
    "name": "ipython",
    "version": 3
   },
   "file_extension": ".py",
   "mimetype": "text/x-python",
   "name": "python",
   "nbconvert_exporter": "python",
   "pygments_lexer": "ipython3",
   "version": "3.10.5"
  }
 },
 "nbformat": 4,
 "nbformat_minor": 5
}
