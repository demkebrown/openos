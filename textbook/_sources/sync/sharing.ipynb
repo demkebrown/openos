{
 "cells": [
  {
   "cell_type": "code",
   "execution_count": 1,
   "id": "44083773-7831-4c1f-ac34-3f9fa2e5b288",
   "metadata": {
    "tags": [
     "remove-output",
     "remove-cell",
     "remove-input"
    ]
   },
   "outputs": [],
   "source": [
    "%run -i ../python/common.py\n",
    "publish=False\n",
    "\n",
    "if not publish:\n",
    "    # cleanup any old state\n",
    "    # demke - fill in as we see what state gets generated in this page.\n",
    "    bashCmds('''[[ -d mydir ]] && rm -rf mydir\n",
    "    #''')\n",
    "else:\n",
    "    bashCmds('''rm -rf ~/*''')\n",
    "    \n",
    "closeAllOpenTtySessions()\n",
    "\n"
   ]
  },
  {
   "cell_type": "code",
   "execution_count": null,
   "id": "6eb3bc99-4c9f-41c8-8505-8011780d847e",
   "metadata": {
    "tags": [
     "remove-input"
    ]
   },
   "outputs": [],
   "source": [
    "appdir=os.getenv('HOME')\n",
    "appdir=appdir + \"/sync\"\n",
    "output = runTermCmd(\"[[ -d \" + appdir + \" ]] &&  rm -rf \"+ appdir + \n",
    "             \";cp -r ../src/sync \" + appdir)\n",
    "\n",
    "bash = BashSession(cwd=appdir)"
   ]
  },
  {
   "cell_type": "markdown",
   "id": "9441ba8c-a814-4083-a3d4-df39a731d06e",
   "metadata": {
    "tags": []
   },
   "source": [
    "(cont:sync:sharing)=\n",
    "# Cooperating Processes and Inter-process Communication"
   ]
  },
  {
   "cell_type": "markdown",
   "id": "785e8e85-70cf-4d2f-baa8-2a5ae954bb83",
   "metadata": {
    "tags": []
   },
   "source": [
    "The process abstraction is designed to give the illusion that a program executes on its own\n",
    "private, isolated (virtual) machine. The OS scheduling mechanism hides the fact that the\n",
    "physical CPU is, in fact, shared by multiple processes. From the perspective of any given \n",
    "process, it appears as though its instructions execute one after the other, in the order \n",
    "that they appear in the program, on a dedicated CPU, without interruption or interference \n",
    "by the execution of other processes. The process also has sole access to a virtual address\n",
    "space, where it can store, and operate on, its data -- there is no concern about access to\n",
    "the process's memory from other processes, or that the process may inadvertently access \n",
    "memory that does not belong to it.\n",
    "\n",
    "But, sometimes we want multiple processes to work together to solve a problem. How can they\n",
    "cooperate if they are completely isolated from each other? The short answer is, they can't. For processes to cooperate, they need some way to communicate with each other, so that they can exchange information and coordinate their activities. Let's think about some ways that multiple processes can work together, and how they can communicate.\n",
    "\n",
    "[Unix command pipelines](cont:gs:abstractions:pipes)\n",
    "  : Each program is designed to do one thing well, and more complex operations can be created by composing multiple simple programs. Here, communication is supported by the `pipe()` system call, which creates a communication channel between processes. With some manipulation of file descriptors, the shell can arrange for the standard output of one process to become the standard input of the next process in the pipeline. The pipe provides both a way to pass data from one process to the next and a way to control the order in which processes execute, because a downstream process cannot read its input until after the previous process in the pipeline has started to produce some output.\n",
    "  \n",
    "Complex services\n",
    "  : A complex service, such as a banking service, may have multiple logical operations that it needs to carry out, such as handling user input, executing account operations like deposits, calculating daily interest, running fraud detection analytics, etc. It is often convenient to implement the service as a collection of processes, with each process carrying out one of the major tasks of the service and the operating system [scheduler](cont:scheduling:scheduling) ensuring that all tasks make progress concurrently. The processes may communicate by reading and writing shared files in the file system. By  \n",
    "  \n",
    "Parallel computation\n",
    " : In this case, the goal is to complete a single task in less time by using multiple physical compute cores. As a trivial example, consider sorting a very large set of values. On a multi-core machine, you could create one process per core, arrange for each process to sort a portion of the input, and then merge the results together after all the individual sorts were complete. Here, processes might communicate using a combination of files in the file system (e.g., to read the original, unsorted input, and write the intermediate results from each sorting process) and pipes (e.g., to notify the merging process when each sorting process was finished). \n",
    " \n",
    " \n",
    " \n",
    "## Shared Memory\n",
    "To support more efficient, fine-grained inter-process communication, the operating system also provides system calls to let processes explicitly share a portion of their virtual address space. This allows processes to exchange information simply by reading or writing variables that are allocated in the shared part of the address space. There are actually two ways to do this on Unix systems. The first comes from UNIX System V:\n",
    "\n",
    "- `segment_id = shmget(key, size, shmflg)` : return the identifier of the System V shared memory segment associated with the value of the argument `key`; may be used either to obtain the identifier of a previously created shared memory segment (when `shmflg` is zero and `key` does not have the value `IPC_PRIVATE`), or to create a new shared memory segment.\n",
    "- `shared_startvaddr = shmat(shmid, *shmaddr, shmflg)` : attach the System V shared memory segment identified by `shmid` to the address space of the calling process at `shmaddr` or an address chosen by the OS if `shmaddr` is `NULL`; return the actual starting virtual address of the shared segment in the process address space. \n",
    "- `err = shmdt(shmaddr)` : detach the shared memory segment located at the address specified by `shmaddr` from the address space of the calling process; the to-be-detached segment must be currently attached with `shmaddr` equal to the value returned by the attaching `shmat()` call.\n",
    "\n",
    "The use of segment identifiers makes it possible for unrelated processes to share memory, however after one process creates a shared memory segment with `shmget`, it needs to communicate the segment id to the other processes that are allowed to share it. One way to do this is by writing the segment id into a file that can be read by the other processes. The other method for requesting shared memory comes from BSD UNIX and requires a parent process to create a shared mapping in its address space before forking child processes. The mapped segments are then shared with child processes, rather than creating a copy in the child address space.\n",
    "\n",
    "- `shared_startvaddr = mmap(*addr, length, prot, MAP_SHARED | MAP_ANONYMOUS, ...)` : create a new mapping of `length` bytes in the virtual address space of the calling process starting at  `addr` or an address chosen by the OS if `addr` is `NULL`; return the actual starting virtual address of the shared segment in the process address space.\n",
    "\n",
    "Note that `mmap` is often used to access persistent files using a virtual memory interface rather than the file system `read()` and `write()` interface. In the example above, `MAP_ANONYMOUS` indicates that the mapping is for a non-persistent virtual memory region, which is not backed by any file. (Remember that you can use `man` for the full details of these system calls.)\n",
    "\n",
    "The shared memory segments are implemented in the operating system using the virtual memory mechanisms. Each process that shares the memory segment has its page tables pointing to the same underlying physical pages, so that any load or store access to a virtual address in the shared segment will be translated to the same physical location in the machine memory.\n",
    "\n",
    "## Multi-threaded Processes\n",
    "\n",
    "Recall from {numref}`cont:scheduling:process:threads` that a process can have multiple *threads*, and that all threads in a process share the same virtual address space. This means that multi-threaded processes do not need to do any extra work to communicate using shared memory. The operating system itself is multi-threaded: every user-level process has at least one thread in the kernel, and other threads carry out asynchronous operating system activities, such as writing dirty file system blocks back to the disk. All of these kernel threads share the same operating system code and data structures. We will see later how user-level communication through pipes is implemented in the operating system by threads writing to, and reading from, a shared buffer of memory. In our discussion of concurrency and synchronization, we will use examples in multi-threaded user-level processes, since they can be presented as simple, stand-alone programs. Keep in mind that everything we say about multi-threaded processes also applies to the implementation of the operating system. \n",
    "\n",
    "Since each thread is an independent execution entity, they need to have their own execution state. This includes a per-thread execution stack to hold local variables. In contrast, global variables and heap-allocated variables are shared by all threads in a process. Note that although each thread has its own execution stack, these are still all part of the same virtual address space, and threads in the same process are not protected from each other by the operating system. Thus, it is possible for a buggy thread to accidentally scribble on another thread's stack space, leading to bizarre behavior. \n",
    "\n",
    "## Coordinating Thread or Process Activities\n",
    "\n",
    "Regardless of whether we are using multiple processes, or a single multi-threaded process, whether we are implementing user-level programs or the operating system, we need a way to coordinate multiple concurrent activities. \n",
    "\n",
    "```{sidebar}\n",
    "*Concurrency* in computer systems means that the execution of multiple (i.e., two or more) tasks *overlaps in time*. The context switch mechanism gives us concurrent execution of multiple processes, even on a single physical CPU. *Parallelism* means that multiple tasks are executing *at the same time*. Parallelism requires multiple physical CPUs. \n",
    "```\n",
    "\n",
    "The operating system scheduler controls when, and for how long, any given thread is allowed to execute. Although each thread's instructions execute in program order, its execution is interleaved with other threads. And when threads share resources, such as data structures in shared memory, the arbitrary interleaving of operations from multiple threads can lead to unpredictable, and undesirable, outcomes. **Synchronization** is the mechanism that allows us to restrict the possible interleavings of threads, so that we can control how they use shared resources, reason about their behavior, and prevent undesirable outcomes. There are two main problems that synchronization helps us to solve: how to ensure that threads do not interfere with each other when they use a shared resource, and how to ensure that threads execute their operations in the correct order. For example, consider the simple program in {numref}`listing:sync:outputs`, below, in which two threads each output a string:\n",
    "\n",
    "```{literalinclude} /src/sync/output_example.c\n",
    "---\n",
    "linenos:\n",
    "emphasize-lines: 26-36, 48, 49\n",
    "caption: output_example.c - Uncontrolled thread interleaving example using output to the terminal. \n",
    "name: listing:sync:outputs\n",
    "---\n",
    "```\n",
    "\n",
    "\n"
   ]
  },
  {
   "cell_type": "code",
   "execution_count": 2,
   "id": "505dda7b-58a2-4465-803d-b5f5b702b766",
   "metadata": {
    "tags": [
     "remove-cell",
     "remove-input",
     "hide-output"
    ]
   },
   "outputs": [
    {
     "data": {
      "text/markdown": [
       "<font size=\"1.2rem\"><b>output_example.c - Uncontrolled thread interleaving using output to the terminal.</b>\n",
       "<div style=\"width:100%; height:100%; font-size:inherit; overflow: auto;\" >\n",
       "\n",
       "\n",
       "``` \n",
       " 1: #include <pthread.h>\n",
       " 2: #include <stdlib.h>\n",
       " 3: #include <sys/types.h>\n",
       " 4: #include <unistd.h>\n",
       " 5: #include <string.h>\n",
       " 6: #include <stdio.h>\n",
       " 7: \n",
       " 8: /* This function is intended so simulate a thread needing to do some other \n",
       " 9:  * work in between output statements.\n",
       "10:  */\n",
       "11: static long waste_cpu()\n",
       "12: {\n",
       "13:     long dummy = 0;\n",
       "14:     for (int i = 0; i < 10000; i++) {\n",
       "15:         dummy += rand();\n",
       "16:     }\n",
       "17:     return dummy;\n",
       "18: }\n",
       "19: \n",
       "20: /* Start of function executed by each thread.\n",
       "21:  * Each character of the argument string is printed out one-by-one\n",
       "22:  * in a separate system call. \n",
       "23:  * To increase the number of interleavings, we voluntarily yield the \n",
       "24:  * CPU after each character is output.\n",
       "25:  */\n",
       "26: static void *write_one_by_one(void *arg)\n",
       "27: {\n",
       "28:     char *mystr = (char *)arg;\n",
       "29:       \n",
       "30:     for (int i = 0; i < strlen(mystr); i++) {\n",
       "31:         write(STDOUT_FILENO, &mystr[i], 1); \n",
       "32:         waste_cpu();\n",
       "33:     }\n",
       "34:   \n",
       "35:     return (void *)0;       \n",
       "36: }\n",
       "37: /* End of function executed by each thread. */\n",
       "38: \n",
       "39: \n",
       "40: int main(int argc, char **argv)\n",
       "41: {\n",
       "42:     pthread_t tid1, tid2;\n",
       "43:     char *str1 = \"Hello\";\n",
       "44:     char *str2 = \"Goodbye\";\n",
       "45: \n",
       "46:     /* Normally we'd want to test the return value of pthread_create. */\n",
       "47: \n",
       "48:     (void)pthread_create(&tid1, NULL, write_one_by_one, (void *)str1 );\n",
       "49:     (void)pthread_create(&tid2, NULL, write_one_by_one, (void *)str2 );\n",
       "50: \n",
       "51:     /* Wait for child threads to finish */\n",
       "52:     pthread_join(tid1, NULL);\n",
       "53:     pthread_join(tid2, NULL);\n",
       "54: \n",
       "55:     write(STDOUT_FILENO, \"\\n\", 1);    \n",
       "56:     return 0;\n",
       "57: }\n",
       "58: \n",
       "\n",
       "```\n",
       "\n",
       "\n",
       "</div>\n",
       "</font>"
      ],
      "text/plain": [
       "<IPython.core.display.Markdown object>"
      ]
     },
     "metadata": {},
     "output_type": "display_data"
    }
   ],
   "source": [
    "# demke:\n",
    "# \n",
    "# This cell is removed in the html, but displays the code in the Jupyter notebook.\n",
    "#\n",
    "\n",
    "display(Markdown('<font size=\"1.2rem\">' + FileCodeBox(\n",
    "    file=appdir + \"/output_example.c\", \n",
    "    lang=\"\", \n",
    "    number=True,\n",
    "    title=\"<b>output_example.c - Uncontrolled thread interleaving using output to the terminal.</b>\",\n",
    "    h=\"100%\", \n",
    "    w=\"100%\"\n",
    ") + '</font>'))\n"
   ]
  },
  {
   "cell_type": "markdown",
   "id": "effb76eb-8c06-4113-bd7c-4d559eb31b47",
   "metadata": {},
   "source": [
    "When this program is run, the main function creates two new threads, passing each a string to output on the terminal. Once created, the threads start executing concurrently in the `write_one_by_one` function. Each thread loops over its input string, calling the `write()` system call to output the characters one by one. (We could, of course, call `write()` to output the entire string at once, or use the C library `printf` function, but we want to see what could happen when we don't have the internal synchronization that these functions provide.)\n",
    "\n",
    "What do you expect the result of running this program to be? Let's give it a try a few times!"
   ]
  },
  {
   "cell_type": "code",
   "execution_count": 3,
   "id": "4294b8ba-cd39-4480-8d02-4e2b688f4707",
   "metadata": {
    "tags": [
     "remove-input"
    ]
   },
   "outputs": [
    {
     "data": {
      "application/vnd.jupyter.widget-view+json": {
       "model_id": "3cb94780845942e1a9103e6700779c92",
       "version_major": 2,
       "version_minor": 0
      },
      "text/plain": [
       "Output(layout=Layout(border='1px solid black', height='100%', overflow_y='scroll'))"
      ]
     },
     "metadata": {},
     "output_type": "display_data"
    }
   ],
   "source": [
    "bash.runNoOutput(\"[[ -a output_example ]] && rm output_example;make output_example\")\n",
    "cmds = '''./output_example\n",
    "./output_example\n",
    "./output_example\n",
    "./output_example'''\n",
    "\n",
    "bash.run(cmds)"
   ]
  },
  {
   "cell_type": "markdown",
   "id": "48413293-4f05-417e-9bc0-6491036f2a3c",
   "metadata": {},
   "source": [
    "The output doesn't look great. Not only is the output unreadable, it is also different from one run to the next. (And each time we build this book, we don't know exactly what output you will be seeing! Maybe some of the runs even produce something reasonable.) What we want to see is either \"HelloGoodbye\" or \"GoodbyeHello\" --- by adding synchronization, we can restrict the interleavings of the output to just these two possibilities. And, if we wanted to ensure that \"Hello\" always appeared on the terminal before \"Goodbye\", another form of synchronization would allow us to enforce that ordering as well. In fact, the C library `printf()` family of functions, and the internal implementation of the `write()` system call, contain synchronization to ensure that output from one call is not interleaved with another, but if we wanted to ensure that \"Hello\" is displayed before \"Goodbye\", we would still need to add more synchronization on top of the `write()` or `printf()` functions.\n",
    "\n",
    "Let's look at another illustrative example of the problems that can arise when we don't control concurrent execution. \n",
    "\n",
    "% use start/end code-block tags to display only the deposit function here.\n",
    "```{literalinclude} /src/sync/bank_deposit.c\n",
    "---\n",
    "linenos:\n",
    "start-after: Start of deposit function\n",
    "end-before: End of deposit function\n",
    "caption: deposit function from bank_deposit.c - Simple bank account example.\n",
    "name: listing:sync:bank\n",
    "---\n",
    "```\n",
    "\n",
    "In {numref}`listing:sync:bank` we see a simplified example of a function that is part of a program to\n",
    "maintain a bank account balance at the Bank of Lost Funds. When running\n",
    "on a single thread, the `deposit` function is trivially correct: after it\n",
    "completes execution, the value of `balance` stored back to the `account` will be `amount` greater than\n",
    "it was before the function was invoked. Problems arise, however, when multiple threads run this function concurrently. \n",
    "\n",
    "```{figure} ../images/sync/bank_deposit_interleaving.drawio.png\n",
    "---\n",
    "width: 85%\n",
    "name: fig:sync:badbank\n",
    "---\n",
    "(a) The body of the `deposit()` function executed by two threads, (b) one possible interleaving of the execution of the threads, and \\(c\\) a second possible interleaving. \n",
    "```\n",
    "\n",
    "In {numref}`fig:sync:badbank`(b), we see one possible interleaving when\n",
    "this function is invoked by two threads nearly simultaneously. In this\n",
    "case Thread 1 is interrupted after it has read the current value of\n",
    "`balance`, but before it could store the new value back to memory. Thread 2 then gets to run and completes its execution of the `deposit()` function before being interrupted. Finally, Thread 1 can run again and complete its execution of `deposit()` by storing its local `balance` variable back to the account. The\n",
    "result is that the update performed by Thread 2 is lost, being\n",
    "over-written by Thread 1's computation. After depositing a total of\n",
    "\\$150 to the account we have a final balance of \\$50. Context switches are unpredictable, however, and other interleavings of the thread executions are also possible. In {numref}`fig:sync:badbank`\\(c\\) we see another possible schedule, where Thread 1's update to the account balance is overwritten by Thread 2.\n"
   ]
  },
  {
   "cell_type": "markdown",
   "id": "3c8db506-f4be-45e2-b297-2caa4e5485f4",
   "metadata": {},
   "source": [
    "Let's try running the bank deposit program a few times and see what happens."
   ]
  },
  {
   "cell_type": "markdown",
   "id": "45866b62-959f-45f7-b937-94a4b9ed43b6",
   "metadata": {
    "tags": []
   },
   "source": [
    "```{admonition} Click to show the full source code of the bank balance program.\n",
    ":class: dropdown\n",
    "Here is the complete code for the bank balance example, including the creation of two threads to run the deposit function on the same account with different amounts. \n",
    "\n",
    "```{literalinclude} /src/sync/bank_deposit.c\n",
    "---\n",
    "linenos:\n",
    "caption: bank_deposit.c - Full source code for simple bank account example \n",
    "name: listing:sync:bank_full\n",
    "---\n",
    "```\n",
    "```\n"
   ]
  },
  {
   "cell_type": "code",
   "execution_count": 4,
   "id": "34685f13-c46f-4169-8918-c63fca67ac0e",
   "metadata": {
    "tags": [
     "remove-cell",
     "hide-output",
     "remove-input"
    ]
   },
   "outputs": [
    {
     "data": {
      "text/markdown": [
       "<font size=\"1.2rem\"><b>bank_deposit.c - Full source code for simple bank account example</b>\n",
       "<div style=\"width:100%; height:100%; font-size:inherit; overflow: auto;\" >\n",
       "\n",
       "\n",
       "``` \n",
       " 1: #include <pthread.h>\n",
       " 2: #include <stdlib.h>\n",
       " 3: #include <sys/types.h>\n",
       " 4: #include <unistd.h>\n",
       " 5: #include <string.h>\n",
       " 6: #include <stdio.h>\n",
       " 7: \n",
       " 8: #define money_t double\n",
       " 9: #define MAX_ACCOUNTS 1000\n",
       "10: \n",
       "11: struct deposit_s {\n",
       "12:     int account_num;\n",
       "13:     money_t amount;\n",
       "14: };\n",
       "15: \n",
       "16: money_t accounts[MAX_ACCOUNTS];\n",
       "17: \n",
       "18: /* This function is intended so simulate the work of retrieving the current balance\n",
       "19:  * for a given account number. It just spins and yields a random number of times.\n",
       "20:  */\n",
       "21: static money_t get_balance(int account_num)\n",
       "22: {\n",
       "23:     long dummy = 0;\n",
       "24:     int nyield = rand() % 10;\n",
       "25:     int nspin = rand() % 1000;\n",
       "26: \n",
       "27: \n",
       "28:     for (int i = 0; i < nyield; i++) {\n",
       "29:         sched_yield();\n",
       "30:         for (int j = 0; j < nspin; j++) {\n",
       "31:             dummy += rand();\n",
       "32:         }\n",
       "33:     }\n",
       "34: \n",
       "35:     return accounts[account_num];\n",
       "36: }\n",
       "37: \n",
       "38: /* This function is intended so simulate the work of saving the current balance\n",
       "39:  * back to a given account number. It just spins and yields a random number of times.\n",
       "40:  */\n",
       "41: static void put_balance(int account_num, money_t balance)\n",
       "42: {\n",
       "43:     long dummy = 0;\n",
       "44:     int nyield = rand() % 10;\n",
       "45:     int nspin = rand() % 1000;\n",
       "46: \n",
       "47: \n",
       "48:     for (int i = 0; i < nyield; i++) {\n",
       "49:         sched_yield();\n",
       "50:         for (int j = 0; j < nspin; j++) {\n",
       "51:             dummy += rand();\n",
       "52:         }\n",
       "53:     }\n",
       "54: \n",
       "55:     accounts[account_num] = balance;\n",
       "56:     return;\n",
       "57: }\n",
       "58: \n",
       "59: /* Start of deposit function */\n",
       "60: static void deposit(int account, money_t amount)\n",
       "61: {\n",
       "62:     money_t balance = get_balance(account);\n",
       "63:     balance += amount;\n",
       "64:     put_balance(account, balance);\n",
       "65: \n",
       "66:     return;        \n",
       "67: }\n",
       "68: /* End of deposit function */\n",
       "69: \n",
       "70: static void *deposit_thread(void *arg)\n",
       "71: {\n",
       "72:     struct deposit_s *my_deposit = (struct deposit_s *)arg;\n",
       "73:     deposit(my_deposit->account_num, my_deposit->amount);\n",
       "74: \n",
       "75:     return (void *)0;\n",
       "76: }\n",
       "77: \n",
       "78: int main(int argc, char **argv)\n",
       "79: {\n",
       "80:     pthread_t tid1, tid2;\n",
       "81:     int account_num = 100;\n",
       "82:     money_t amt1 = 50.00;\n",
       "83:     money_t amt2 = 100.00; \n",
       "84: \n",
       "85:     struct deposit_s dep1 = {account_num, amt1};\n",
       "86:     struct deposit_s dep2 = {account_num, amt2}; \n",
       "87: \n",
       "88:     /* Normally we'd want to test the return value of pthread_create. */\n",
       "89: \n",
       "90:     (void)pthread_create(&tid1, NULL, deposit_thread, (void *)&dep1 );\n",
       "91:     (void)pthread_create(&tid2, NULL, deposit_thread, (void *)&dep2 );\n",
       "92: \n",
       "93:     /* Wait for child threads to finish */\n",
       "94:     pthread_join(tid1, NULL);\n",
       "95:     pthread_join(tid2, NULL);\n",
       "96: \n",
       "97:     printf(\"Final balance of account #%d after depositing $%.2lf and $%.2lf is $%.2lf\\n\",\n",
       "98:            account_num, amt1, amt2, accounts[account_num] );\n",
       "99:     return 0;\n",
       "100: }\n",
       "```\n",
       "\n",
       "\n",
       "</div>\n",
       "</font>"
      ],
      "text/plain": [
       "<IPython.core.display.Markdown object>"
      ]
     },
     "metadata": {},
     "output_type": "display_data"
    }
   ],
   "source": [
    "# demke:\n",
    "# \n",
    "# This cell is removed in the html, but displays the code in the Jupyter notebook.\n",
    "#\n",
    "\n",
    "display(Markdown('<font size=\"1.2rem\">' + FileCodeBox(\n",
    "    file=appdir + \"/bank_deposit.c\", \n",
    "    lang=\"\", \n",
    "    number=True,\n",
    "    title=\"<b>bank_deposit.c - Full source code for simple bank account example</b>\",\n",
    "    h=\"100%\", \n",
    "    w=\"100%\"\n",
    ") + '</font>'))\n"
   ]
  },
  {
   "cell_type": "code",
   "execution_count": 5,
   "id": "c5cea154-7be2-4383-b97f-03f99101435c",
   "metadata": {
    "tags": [
     "remove-input"
    ]
   },
   "outputs": [
    {
     "data": {
      "application/vnd.jupyter.widget-view+json": {
       "model_id": "6c7af13623904fdf9037295c76d07dc4",
       "version_major": 2,
       "version_minor": 0
      },
      "text/plain": [
       "Output(layout=Layout(border='1px solid black', height='100%', overflow_y='scroll'))"
      ]
     },
     "metadata": {},
     "output_type": "display_data"
    }
   ],
   "source": [
    "bash.runNoOutput(\"[[ -a bank_deposit ]] && rm bank_deposit;make bank_deposit\")\n",
    "cmds = '''./bank_deposit\n",
    "./bank_deposit\n",
    "./bank_deposit\n",
    "./bank_deposit\n",
    "./bank_deposit'''\n",
    "bash.run(cmds)"
   ]
  },
  {
   "cell_type": "markdown",
   "id": "bdefd0aa-a8b2-4283-948b-a6cb810ad7a4",
   "metadata": {},
   "source": [
    "## Race Conditions\n",
    "\n",
    "The unpredictable and undesirable outcomes that we have seen in the previous examples arise because of **race conditions**.  A race condition occurs whenever two or more threads access a shared resource (like the terminal device, or the variable that stores the bank account balance), and the outcome depends on the order in which the accesses occur. Clearly, this implies that at least one of the accesses must be a write operation, since the outcome of concurrent read operations is not dependent on the order they occur. Logically, the threads are racing with each other to use the resource, and we don't know which one will come first. Sometimes, the result of the race will be the one we want, and sometimes things can go horribly wrong. Race condition bugs are extremely tricky to diagnose and fix, since the program might produce the correct results millions of times before failing. \n",
    "\n",
    "Race conditions happen even on a single CPU because asynchronous events occur arbitrarily during thread execution. For example, the network controller raises an interrupt upon arrival of a network packet, which causes the current thread to be suspended while the interrupt handler runs. Or a timer interrupt occurs and the OS scheduler switches the CPU from the current thread to another thread. With multiple CPUs, threads running in parallel on different CPUs can read and write the same memory location. Multi-threaded programs must be designed so that they can execute correctly in the face of such asynchrony. \n",
    "\n",
    "In our simple example programs, we added extra code to make it more likely for the negative consequences of race conditions to manifest. Without those added operations, the code executed by each thread is short enough to complete in a single time slice, and the threads are less likely to interfere with each other. However, the race condition is still there, lurking in our code. \n",
    "\n",
    "Consider the example in {numref}`listing:sync:counter`, in which two threads either increment or decrement a shared counter some number of times. The arguments to this program let you try different numbers of threads, and different numbers of iterations for each thread to either increment or decrement the shared counter. The program always creates an equal number of incrementing or decrementing threads, and each thread does the same amount of work, so we would expect the final value of the counter to be the same as its initial value when all the threads are done. \n",
    "\n",
    "```{literalinclude} /src/sync/counter.c\n",
    "---\n",
    "name: listing:sync:counter\n",
    "caption: counter.c - Two threads increment and decrement a shared counter without synchronization.\n",
    "---\n",
    "```\n"
   ]
  },
  {
   "cell_type": "code",
   "execution_count": 6,
   "id": "20ee3aff-96ce-4d98-9827-6492f3b18c6b",
   "metadata": {
    "tags": [
     "remove-cell",
     "remove-input",
     "remove-output",
     "hide-output"
    ]
   },
   "outputs": [
    {
     "data": {
      "text/markdown": [
       "<font size=\"1.2rem\"><b>counter.c - Two threads increment and decrement a shared counter without synchronization.</b>\n",
       "<div style=\"width:100%; height:100%; font-size:inherit; overflow: auto;\" >\n",
       "\n",
       "\n",
       "``` \n",
       " 1: #include <pthread.h>\n",
       " 2: #include <stdlib.h>\n",
       " 3: #include <sys/types.h>\n",
       " 4: #include <unistd.h>\n",
       " 5: #include <string.h>\n",
       " 6: #include <stdio.h>\n",
       " 7: \n",
       " 8: long int shared_counter;\n",
       " 9: \n",
       "10: static void *increment_thread(void *arg)\n",
       "11: {\n",
       "12:     int niters = (int)arg;\n",
       "13:     for (int i = 0; i < niters; i++) {\n",
       "14:         shared_counter++;\n",
       "15:     }\n",
       "16: \n",
       "17:     return (void *)0;\n",
       "18: }\n",
       "19: \n",
       "20: static void *decrement_thread(void *arg)\n",
       "21: {\n",
       "22:     int niters = (int)arg;\n",
       "23: \n",
       "24:     for (int i = 0; i < niters; i++) {\n",
       "25:         shared_counter--;\n",
       "26:     }\n",
       "27: \n",
       "28:     return (void *)0;\n",
       "29: }\n",
       "30: \n",
       "31: int main(int argc, char **argv)\n",
       "32: {\n",
       "33:     pthread_t *tids;\n",
       "34:     int niters, nthreads, i;\n",
       "35:     \n",
       "36:     if (argc != 3) {\n",
       "37:         fprintf(stderr,\"Usage: %s <num_threads> <num_iters>\\n\",argv[0]);\n",
       "38:         return 1;\n",
       "39:     }\n",
       "40: \n",
       "41:     nthreads = atoi(argv[1]);\n",
       "42:     niters = atoi(argv[2]);\n",
       "43:     shared_counter = 0;\n",
       "44:     \n",
       "45:     printf(\"Main thread: Beginning test with %d threads\\n\", nthreads);\n",
       "46:     \n",
       "47:     tids = (pthread_t *)malloc(nthreads * sizeof(pthread_t));\n",
       "48:     \n",
       "49:     /* We create the same number of increment and decrement threads, each doing the same number of iterations. \n",
       "50:      * When all threads have completed, we expect the final value of the shared counter to be the same as its\n",
       "51:      * initial value (i.e., 0).\n",
       "52:      */\n",
       "53:     for (i = 0; i < nthreads/2; i++) {\n",
       "54:         (void)pthread_create(&tids[i], NULL, increment_thread, (void *)niters );\n",
       "55:         (void)pthread_create(&tids[i+1], NULL, decrement_thread, (void *)niters );\n",
       "56:     }\n",
       "57:     \n",
       "58:     /* Wait for child threads to finish */\n",
       "59:     for (i = 0; i < nthreads/2; i++) {\n",
       "60:         pthread_join(tids[i], NULL);\n",
       "61:         pthread_join(tids[i+1], NULL);\n",
       "62:     }\n",
       "63:     \n",
       "64:     printf(\"Main thread: Final value of shared counter is %ld\\n\", shared_counter);\n",
       "65: \n",
       "66:     return 0;\n",
       "67: }\n",
       "```\n",
       "\n",
       "\n",
       "</div>\n",
       "</font>"
      ],
      "text/plain": [
       "<IPython.core.display.Markdown object>"
      ]
     },
     "metadata": {},
     "output_type": "display_data"
    }
   ],
   "source": [
    "# demke:\n",
    "# \n",
    "# This cell is removed in the html, but displays the code in the Jupyter notebook.\n",
    "#\n",
    "\n",
    "display(Markdown('<font size=\"1.2rem\">' + FileCodeBox(\n",
    "    file=appdir + \"/counter.c\", \n",
    "    lang=\"\", \n",
    "    number=True,\n",
    "    title=\"<b>counter.c - Two threads increment and decrement a shared counter without synchronization.</b>\",\n",
    "    h=\"100%\", \n",
    "    w=\"100%\"\n",
    ") + '</font>'))\n"
   ]
  },
  {
   "cell_type": "code",
   "execution_count": 7,
   "id": "573a1a67-2ddf-4b48-b027-a3809f71cfcc",
   "metadata": {
    "tags": [
     "remove-input"
    ]
   },
   "outputs": [
    {
     "data": {
      "application/vnd.jupyter.widget-view+json": {
       "model_id": "93ccc814995147b4bef6b76fde6cf02d",
       "version_major": 2,
       "version_minor": 0
      },
      "text/plain": [
       "Output(layout=Layout(border='1px solid black', height='100%', overflow_y='scroll'))"
      ]
     },
     "metadata": {},
     "output_type": "display_data"
    }
   ],
   "source": [
    "bash.runNoOutput(\"[[ -a counter ]] && rm counter;make counter\")\n",
    "cmds = '''./counter 2 20000\n",
    "./counter 2 20000\n",
    "./counter 4 10000\n",
    "./counter 4 10000'''\n",
    "\n",
    "bash.run(cmds)"
   ]
  },
  {
   "cell_type": "markdown",
   "id": "b35cd54d-372b-4148-b4d7-37082630551a",
   "metadata": {},
   "source": [
    "Even though it looks like the racing thread accesses to the shared counter variable are each just a single line of code, we still have unpredictable final results. The reason is because that single line of C source code, `shared_counter++` or `shared_counter--` becomes three lines of machine code when the program is compiled, as shown in {numref}`listing:sync:counter_assembly`. (Try `make counter`, and see if you can find these lines in the assembly file `counter.s`.) These lines load the value of the counter from memory into a register, decrement the value in the register, and then store the register value back to memory. Context switches can occur between any of these statements, leading to exactly the same interleaving problems that we saw in the bank account example. "
   ]
  },
  {
   "cell_type": "markdown",
   "id": "860e01c1-6b6e-48ce-802c-bd83a823ab70",
   "metadata": {},
   "source": [
    "```{literalinclude} /src/sync/counter.s\n",
    "---\n",
    "linenos:\n",
    "start-after: L7\n",
    "end-before: add\n",
    "caption: Assembly code snippet of loop body in `decrement_thread()` function. \n",
    "name: listing:sync:counter_assembly\n",
    "---\n",
    "```"
   ]
  }
 ],
 "metadata": {
  "kernelspec": {
   "display_name": "Python 3 (ipykernel)",
   "language": "python",
   "name": "python3"
  },
  "language_info": {
   "codemirror_mode": {
    "name": "ipython",
    "version": 3
   },
   "file_extension": ".py",
   "mimetype": "text/x-python",
   "name": "python",
   "nbconvert_exporter": "python",
   "pygments_lexer": "ipython3",
   "version": "3.10.5"
  }
 },
 "nbformat": 4,
 "nbformat_minor": 5
}
