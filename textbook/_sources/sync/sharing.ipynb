{
 "cells": [
  {
   "cell_type": "markdown",
   "id": "9441ba8c-a814-4083-a3d4-df39a731d06e",
   "metadata": {
    "tags": []
   },
   "source": [
    "(cont:sync:sharing)=\n",
    "# Cooperating Processes"
   ]
  },
  {
   "cell_type": "markdown",
   "id": "785e8e85-70cf-4d2f-baa8-2a5ae954bb83",
   "metadata": {},
   "source": [
    "The process abstraction is designed to give the illusion that a program executes on its own\n",
    "private, isolated (virtual) machine. The OS scheduling mechanism hides the fact that the\n",
    "physical CPU is, in fact, shared by multiple processes. From the perspective of any given \n",
    "process, it appears as though its instructions execute one after the other, in the order \n",
    "that they appear in the program, on a dedicated CPU, without interruption or interference \n",
    "by the execution of other processes. The process also has sole access to a virtual address\n",
    "space, where it can store and operate on its data -- there is no concern about access to\n",
    "the process's memory from other processes, or that the process may inadvertently access \n",
    "memory that does not belong to it.\n",
    "\n",
    "But what if multiple processes need to work together to solve a problem? How can they\n",
    "cooperate if they are completely isolated from each other?\n",
    "\n",
    "Why use multiple processes to solve a problem? \n",
    "1. Unix command pipelines - each program is designed to do one thing well, output from one becomes the input to the next.\n",
    "1. Logical concurrency - structure service with multiple processes, each handles a particular task, OS scheduler ensures all tasks make progress. e.g., bank server with input handling process, withdrawal handling process, deposit handling process. \n",
    "1. Parallel execution - use multiple physical compute cores to complete a task faster, e.g., sorting very large set of values, each process sorts a portion of the input, then merge the results together. \n",
    "    \n",
    "    "
   ]
  }
 ],
 "metadata": {
  "kernelspec": {
   "display_name": "Python 3 (ipykernel)",
   "language": "python",
   "name": "python3"
  },
  "language_info": {
   "codemirror_mode": {
    "name": "ipython",
    "version": 3
   },
   "file_extension": ".py",
   "mimetype": "text/x-python",
   "name": "python",
   "nbconvert_exporter": "python",
   "pygments_lexer": "ipython3",
   "version": "3.10.5"
  }
 },
 "nbformat": 4,
 "nbformat_minor": 5
}
