{
 "cells": [
  {
   "cell_type": "markdown",
   "id": "fe630732-dfab-4028-95c3-1908a018983a",
   "metadata": {},
   "source": [
    "(cont:sync:deadlock)=\n",
    "# Deadlocks"
   ]
  },
  {
   "cell_type": "markdown",
   "id": "d109271b-1c6f-40c9-9071-1d74056eec55",
   "metadata": {},
   "source": [
    "Describe deadlocks.\n",
    "1. Conditions for deadlock\n",
    "1. Deadlock prevention\n",
    "1. Deadlock avoidance\n",
    "1. Deadlock detection and recovery"
   ]
  }
 ],
 "metadata": {
  "kernelspec": {
   "display_name": "Python 3 (ipykernel)",
   "language": "python",
   "name": "python3"
  },
  "language_info": {
   "codemirror_mode": {
    "name": "ipython",
    "version": 3
   },
   "file_extension": ".py",
   "mimetype": "text/x-python",
   "name": "python",
   "nbconvert_exporter": "python",
   "pygments_lexer": "ipython3",
   "version": "3.10.5"
  }
 },
 "nbformat": 4,
 "nbformat_minor": 5
}
