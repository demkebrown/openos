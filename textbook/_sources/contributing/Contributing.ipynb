{
 "cells": [
  {
   "cell_type": "markdown",
   "id": "735ffbe9-30ea-4684-aa87-a36cc9877291",
   "metadata": {},
   "source": [
    "(cont:contr)=\n",
    "# Contributing\n",
    "\n",
    "```{sidebar} fast links/info:\n",
    "- [development environment](https://jupyterhub-redhat-ods-applications.apps.buaws-dev.idu6.p1.openshiftapps.com/hub/user-redirect/lab)\n",
    "  - select Jonathan's textbook (not the OPE one)\n",
    "  - type \"dowork\" and “rejup” to add back all the jupyter lab tabs and browser\n",
    "\n",
    "```\n",
    "\n",
    "This notebook, currently linked into textbook is intended to be a guild to people collaborating with us on developing the open OS textbook.  We first provide [links](cont:contr:links) to background information on the tools used and describe some of our design [choices](cont:contr:design).  Next, we provide a [tutorial](cont:contr:tutorial) on how to get started with the environment if you are a collaborator of the authors, followed by information on how to [author](cont:contr:authoring) content.  "
   ]
  },
  {
   "cell_type": "markdown",
   "id": "380bf4b9-856e-4cc4-ae96-51fa74263f31",
   "metadata": {},
   "source": [
    "```{note}\n",
    "We recommend you look at this notebook as the best example of generating content, and we will keep it up to date as we gain more experience. \n",
    "\n",
    "```{warning} It is really easy to wast months with all the degrees of freedom with this authoring model, and we will try to be prescriptive on how we use the tools, so we recommend you jump straight to the [tutorial](cont:contr:tutorial) directions on [authoring](cont:contr:authoring) material. \n",
    "```{note} This is an example of a note, in a warning, in a note. \n",
    "```\n",
    "```"
   ]
  },
  {
   "cell_type": "markdown",
   "id": "4b4cd7b3-4a91-435c-9c13-8081c718cea7",
   "metadata": {},
   "source": [
    "At the end of this section we discuss our current thinking on the proposed [outline](cont:contr:structure) of the textbook, our list of [todo](cont:contr:todo) items that contributors can take a look at, and links to various [reference](cont:contr:ref) materials, for example, sections of Jonathan's textbook that we plan to steal materials from. "
   ]
  },
  {
   "cell_type": "markdown",
   "id": "dcec3da9-8cac-431c-864b-3a64bd1080de",
   "metadata": {
    "jp-MarkdownHeadingCollapsed": true,
    "tags": []
   },
   "source": [
    "(cont:contr:links)=\n",
    "## Resources to look at\n",
    "\n",
    "\n",
    "- [jupyterbook: ](https://jupyterbook.org/en/stable/intro.html): look here for basic instructions on authoring; we are basically using jupyterbook in a prescriptive fashion for the static content.\n",
    "    - [cheat sheet for myst markdown](https://jupyterbook.org/en/stable/reference/cheatsheet.html)\n",
    "    - [modifying table of contents](https://jupyterbook.org/en/stable/structure/toc.html)\n",
    "    - [myst markdown](https://jupyterbook.org/en/stable/content/myst.html): we plan on authoring much of this with myst, although the current implementation of myst for jupyterbook is experimental.\n",
    "    - [tags on cells](https://jupyterbook.org/en/stable/content/metadata.html#jupyter-cell-tags): use this to, for example hide inputs\n",
    "- [jonathan notes on looking slides](https://jappavoo.github.io/UndertheCovers/lecturenotes/lnhowto.html)\n",
    "- [jonthans repo for under the covers](https://github.com/jappavoo/UndertheCovers)"
   ]
  },
  {
   "cell_type": "markdown",
   "id": "e7896d37-3578-45c8-b9cc-ba9fd7c1f621",
   "metadata": {
    "slideshow": {
     "slide_type": "subslide"
    },
    "tags": []
   },
   "source": [
    "(cont:contr:design)=\n",
    "## Design choices\n",
    "\n",
    "* All real content is in the “content” directory\n",
    "    * tb_toc.yml - the table of contents for the book\n",
    "* The images should all be in the image directory\n",
    "* We are creating one subdirectory for each chapter that will contain:\n",
    "   - book materials; for now, its a single file for book; likely will eventually break into sections\n",
    "   - all corresponding lectures, referred to as lecture notes\n",
    "   - all corresponding lab materials\n",
    "   \n"
   ]
  },
  {
   "cell_type": "markdown",
   "id": "96506000-7d32-4d22-be20-dac90e02113b",
   "metadata": {},
   "source": [
    "(cont:contr:tutorial)=\n",
    "## Authoring tutorial - getting started\n",
    "\n",
    "Here is tutorial to getting started that describes how to set up your authoring environment assuming you are a collaborator of the authors, how to . "
   ]
  },
  {
   "cell_type": "markdown",
   "id": "53af7f0d-3a6a-491f-9b30-0c51559fb242",
   "metadata": {
    "jp-MarkdownHeadingCollapsed": true,
    "slideshow": {
     "slide_type": "slide"
    },
    "tags": []
   },
   "source": [
    "### Setting up your environment; a simple tutorial\n",
    "\n",
    "Connect to development environment [here](https://jupyterhub-redhat-ods-applications.apps.buaws-dev.idu6.p1.openshiftapps.com/hub/user-redirect/lab) or to public operate first [here](https://jupyterhub-opf-jupyterhub.apps.smaug.na.operate-first.cloud/hub/user-redirect/lab)\n",
    "    * you need to be a member of the following github [organization](https://github.com/organizations/OPEFFORT-DEV/settings/profile) for authorization; send github id to okrieg@bu.edu and ask to join the group.  Orran can help. you debug problems (you likely are not authorized) by connecting to [dashboard](https://rhods-dashboard-redhat-ods-applications.apps.buaws-dev.idu6.p1.openshiftapps.com/notebookImages) to [open shift console](https://console-openshift-console.apps.buaws-dev.idu6.p1.openshiftapps.com/k8s/ns/rhods-notebooks/pods) for debugging issues with container run time... (or for operate first [here](https://console-openshift-console.apps.smaug.na.operate-first.cloud/topology/ns/opf-jupyterhub?view=graph&[…]-4fe3-a08a-4dd796af34ea&searchQuery=app))\n",
    "\n",
    "The book you should be using right now is the OPE one, it contains a full lab environment.  When you first start it, you won't see any content. While there is a persistent volume mounted by the container, we hide it to encourage students to use github and commit their changes there frequently or else lose progress. For authoring material, given how long it takes to generate the textbook, it is likely you will want to do your work in the persistent volume that a new server automatically mounts.  To do that, the first time you start the server:\n",
    "- start a terminal\n",
    "- checkout the following setup [repo](https://github.com/jappavoo/juphub-utils)\n",
    "- do what it says at the end, i.e.:\n",
    "\n",
    "```{code-block} bash\n",
    ":lineno-start: 1\n",
    ":emphasize-lines: 1\n",
    "\n",
    "cd /opt/app-root/src\n",
    "git clone https://github.com/jappavoo/juphub-utils.git\n",
    "./juphub-utils/setup.sh\n",
    "```\n",
    "\n",
    "```{sidebar} For more info:\n",
    "To see how to put in code-blocks ... look [here](https://jupyterbook.org/en/stable/content/layout.html#sidebars-within-content)\n",
    "```\n",
    "\n",
    "- shutdown the server, and restart it\n",
    "- Suggest create a new ssh key for each environment, i.e. run ssh-keygen on container and then add to your profile on github clicking on your profile, and then adding to your ssh keys id_rsa.pub \n",
    "    * go to ssh and GPG keys\n",
    "    * add ssh key - add new sssh key\n",
    "\n",
    "### Every time \n",
    "- type `dowork`  which will create a folder named `Work` in the home directory, linked to the  persistent storage `/opt/app-root/src`\n",
    "   - we have set things up so that the home directory is ephemeral, so students will commit things to github frequently\n",
    "- to set up full lab environment in container type “rejup” to add back all the jupyter lab tabs and browser\n",
    "- run `git clone https://github.com/okrieg/openos` or `git clone <your fork of openOS>` to load the notebooks of an existing textbook, so they can be edited.   \n",
    "\n",
    "\n",
    "\n",
    "\n"
   ]
  },
  {
   "cell_type": "markdown",
   "id": "a557ddfb-6267-45b0-8c3e-5b7a35279910",
   "metadata": {
    "slideshow": {
     "slide_type": "slide"
    },
    "tags": []
   },
   "source": [
    "### Authoring workflow\n",
    "\n",
    "* Fork the operating system textbook from [here](https://github.com/okrieg/openos)\n",
    "* Clone your fork on your container and you are ready to generate content\n",
    "* make XX in the directory, where make with no arguments will provide help, right now:\n",
    "    * make build-tb - build the textbook\n",
    "    * make pub-tb -  will actually publish it to git\n",
    "* You don’t need to do any making, just edit the corresponding notebooks\n",
    "* After you build it, you can look at the textbook by going to textbook/_build/html/intro_tb.html \n",
    "* For suggesting small changes, or discussing topics, join the OPE annotation group on [hypothesis](https://hypothes.is/groups/9Q6GRjK4/ope)\n",
    "    * you can annotate clicking on icon on the very right on the published document after creating a hypothesis group"
   ]
  },
  {
   "cell_type": "markdown",
   "id": "3d5d4ce3-dd4e-4026-a00a-22efe79ac406",
   "metadata": {},
   "source": [
    "### Submitting changes\n",
    "\n",
    "* you should on your fork create a [pull request to original branch](https://docs.github.com/en/pull-requests/collaborating-with-pull-requests/proposing-changes-to-your-work-with-pull-requests/creating-a-pull-request-from-a-fork) of main repo"
   ]
  },
  {
   "cell_type": "markdown",
   "id": "918fdd95-1737-4a39-9cc7-26a41882bb63",
   "metadata": {},
   "source": [
    "### Accepting changes\n",
    "\n",
    "* Go to github, look for pull requests, I like to use the git commands directly, describe ehre\n",
    "\n",
    "This book is based off of OPE, to re-integrate (FIX to explain below)\n",
    "- git remote add ope git@github.com:OPEFFORT/ope.git\n",
    "- git log --oneline --all --graph --decorate\n",
    "- git log --oneline --graph --decorate  --all\n",
    "- git rebase ope/coursecontenttemplate\n",
    "- git log --oneline --graph --decorate  new-structure\n",
    "- git switch main\n",
    "- git rebase new-feature\n",
    "- git fetch origin\n",
    "- git fetch  ope"
   ]
  },
  {
   "cell_type": "markdown",
   "id": "b15cc895-88d5-4c56-a847-8f38d22a153f",
   "metadata": {},
   "source": [
    "(cont:contr:authoring)=\n",
    "## Authoring content"
   ]
  },
  {
   "cell_type": "markdown",
   "id": "97016bb3-e972-45d4-890a-7b67854fa4c6",
   "metadata": {},
   "source": [
    "### Using jupyterlab\n",
    "\n",
    "Will put various hints here on what we find works, although for the most part like any editor, you will gradually experience what works best for you.  \n",
    "\n",
    "- there seems to be just one file browser, I tend to open multiple links to the textbook:\n",
    "   1. for the place I am actually authoring\n",
    "   2. for a browser to move around, look at examples\n",
    "   3. for the rendered book/result\n",
    "- we might want to build some simple vidios/todos"
   ]
  },
  {
   "cell_type": "markdown",
   "id": "d92ea9fd-c471-4c26-82ce-cfe0b13601bb",
   "metadata": {},
   "source": [
    "### Adding figures\n",
    "\n",
    "Use draw.io for open source software, I download the desktop version from here since it seems more reliable.  You can just download the image to your desktop, edit it there, and upload it again. Please use png as the source type of the file, rather than the default drawio; in this case it will create a XXX.drawio.png file, where the diagram is embedded in the png, so you can both dispay it, and edit it. This means you can not only continue to edit the file directly, but can also include exactly the same file in a figure.  \n",
    "\n",
    "We use the figure directive in myst, so the following:\n",
    "\n",
    "\n",
    "~~~\n",
    "As shown in figure {ref}`contrib:fig:examp`, most operating systems today have ... \n",
    "\n",
    "```{figure} ../images/osstructure-1.drawio.png\n",
    "---\n",
    "height: 10px\n",
    "name: fcontrib:fig:examp\n",
    "align: right\n",
    "---\n",
    "A caption for figure\n",
    "```\n",
    "~~~\n",
    "Results in this:\n",
    "\n",
    "As shown in figure {ref}`contrib:fig:examp`, most operating systems today have ... \n",
    "\n",
    "```{figure} ../images/osstructure-1.drawio.png\n",
    "---\n",
    "height: 10px\n",
    "name: contrib:fig:examp\n",
    "align: right\n",
    "---\n",
    "A caption for figure\n",
    "```\n",
    "\n",
    "For more on figures look at this [reference](https://myst-parser.readthedocs.io/en/latest/syntax/roles-and-directives.html#images-and-figures)."
   ]
  },
  {
   "cell_type": "markdown",
   "id": "b1466935-d8c8-4d03-b9f5-d8bda5a4a3c2",
   "metadata": {},
   "source": [
    "### TAGS\n",
    "- you can add [tags](https://jupyterbook.org/en/stable/content/metadata.html#jupyter-cell-tags}) to cells, e.g., to make a slide a note, or to make a cell display in the margin.  Tags I am using so far are:\n",
    "   - margin"
   ]
  },
  {
   "cell_type": "markdown",
   "id": "6e206c92-93e7-4af2-b2f7-59e269fe97a4",
   "metadata": {},
   "source": [
    "### RISE presentations.\n",
    "\n",
    "#### Developing one\n",
    "\n",
    "- you can find an example with templates for slides in the \"content/contributing\" directory under L01-example notebook. \n",
    "- you should create a symbolic link to the lecture note css file (content/css/ln.css) with the name of your slide (e.g., L01-example), and commit it to the repo\n",
    "- to determin which cells are slides, versus notes, versus subslides... edit the tags\n",
    "\n",
    "#### Coverting google slide presentation\n",
    "- download google slidedeck as a powerpoint\n",
    "- open powerpoint in keynote\n",
    "- export to images, \n",
    "  - set to do an image for each stage of animations\n",
    "  - make sure png and transpartent backgrounds\n",
    "  - upload to book directory \"content/from-google-slides\"\n",
    "    - create new subdirectory (e.g., MM01)\n",
    "    - upload all images generated into that directory\n",
    "    - in directory, e.g., mm, type ```{code-block} ../python/mkln MM-L1 ../from-google-slides/MM01 ```\n",
    "    - you should now have a rise presentation titled MM-L1, where each image is a seperate slide\n",
    "  \n",
    "\n",
    "#### Running one\n",
    "- press lower case \"t\", in screen show for speaker notes; my experience is that only works if you start the note before going to full screen on the slide\n"
   ]
  },
  {
   "cell_type": "markdown",
   "id": "e31ca70c-8ee5-4a71-a5a1-9cd81b61761f",
   "metadata": {},
   "source": [
    "### Useful tricks and stuff we should try\n",
    "\n",
    "- as add-on to google doc, can convert google doc to markdown using [docs to markdown](https://workspace.google.com/marketplace/app/docs_to_markdown/700168918607)\n",
    "- worth downloading google slides and then converting to markdown to get a start on slides and figures we want to include\n"
   ]
  },
  {
   "cell_type": "markdown",
   "id": "d7cd569d-d399-4772-8855-0eab692714bb",
   "metadata": {},
   "source": [
    "(cont:contr:structure)=\n",
    "## Proposed structure\n",
    "\n",
    "```{todo} only half in there; We need to discuss this structure, since changes how we covered 440 in the past.  \n",
    "```\n",
    "\n",
    "### Part 1: \n",
    "\n",
    "- CH: Introduction \n",
    "\n",
    "\n",
    "### Part 2: Core OS services\n",
    "\n",
    "- CH: scheduling\n",
    "- CH: memory management\n",
    "- CH: file systems\n",
    "- CH: networking\n",
    " \n",
    "### Part 3: Parallelism & Synchronization\n",
    "- CH: MP hardware\n",
    "- CH: threads\n",
    "- CH: locking\n",
    "- CH: deadlock\n",
    "\n",
    "### Part 4: Other other important topics\n",
    "- CH Devices \n",
    "- CH Security\n",
    "- CH Virtualization and Cloud Computing\n",
    "- CH Networking \n",
    "\n",
    "### Part 5: Appendix\n",
    "- using git\n",
    "- makefile\n",
    "- shell \n",
    "- defensive programming\n",
    "\n",
    "\n",
    "7. read first four chapters of under the covers: [https://jappavoo.github.io/UndertheCovers/textbook/unix/shellintro.html](https://jappavoo.github.io/UndertheCovers/textbook/unix/shellintro.html)\n",
    "8. \n",
    "\n",
    "<p style=\"text-align: right\">\n",
    "<a href=\"https://massopencloud.slack.com/archives/C03KHQ3KDPW/p1659732852816709\">4:54</a></p>\n",
    "\n",
    "\n",
    "\n",
    "<p style=\"text-align: right\">\n",
    "<a href=\"https://massopencloud.slack.com/archives/C03KHQ3KDPW/p1659732862900279\">4:54</a></p>\n",
    "\n",
    "\n",
    "\n",
    "<p style=\"text-align: right\">\n",
    "<a href=\"https://massopencloud.slack.com/archives/C03KHQ3KDPW/p1659732872013099\">4:54</a></p>"
   ]
  },
  {
   "cell_type": "markdown",
   "id": "49f70832-5b2b-4243-be95-c5d2b06ad1af",
   "metadata": {},
   "source": [
    "(cont:contr:todo)=\n",
    "## Todo on ostextbook:\n",
    "\n",
    "- add example with markdown cell under figure\n",
    "- switch to Jonathan's container and fix directions to use that\n",
    "- upload all slides into the image, and test creation of slides\n",
    "- commit and publish\n",
    "- integrate google doc, examples from previous versions, and zackary's notes - in progressm\n",
    "- go through Jnathan’s first three chapters\n",
    "    1. steal stuff form his About - preface say this is a companion book to his systems book, while not required, we will point to it.. \n",
    "    2. get rid of title of first section, just call preface\n",
    "    3. point to Jonathan’s book for his perspectiv eon OS , but need to replicate in mine\n",
    "    4. point ot jonathan’s for terminal - systess\n",
    "    5. references to background\n",
    "        1. write down section numbers and ordering for reading\n",
    "- customize container for the OS book for openshift environment - for now we are using the base OPE container\n",
    "- create a container for gradescope. \n",
    "- have a container running in local environment to avoid network problems. "
   ]
  },
  {
   "cell_type": "markdown",
   "id": "b1397284-8248-43fd-89d2-764fe6fd8062",
   "metadata": {},
   "source": [
    "(cont:contr:ref)=\n",
    "## References\n",
    "\n",
    "Stuff to steal from look at, pasting here\n",
    "\n",
    "- [examples of proc file system](https://jappavoo.github.io/UndertheCovers/textbook/unix/shellintro.html#standard-output-and-redirection)\n",
    "\n",
    "xv6 - simple OS from MIT - https://pdos.csail.mit.edu/6.828/2012/xv6.html\n",
    "\n",
    "book from peter\n",
    "\n",
    "book three easy steps or whatever, .. \n",
    "\n",
    "Style here from jonathan hiding content: [#](https://jappavoo.github.io/UndertheCovers/textbook/assembly/InfoRepI.html#gdb-display-and-set-registers)\n",
    "\n",
    "https://jappavoo.github.io/UndertheCovers/textbook/assembly/InfoRepI.html#gdb-display-and-set-registers\n",
    "\n",
    "Order in which to read book - \n",
    "\n",
    "- what is introductory content, what is detail... \n",
    "\n",
    "Figure out how to put in tags in book, so that the tags will reflect...\n",
    "\n",
    "Test if you can put in reading order in different ways, can you put in maps, or can you \n",
    "\n",
    "- several curated reading order\n",
    "\n",
    "We have asked you to take on faith, we want to give you to learn by trying...\n",
    "\n",
    "look at [    14. SLS Lecture 14 : Assembly using the OS   ](https://jappavoo.github.io/UndertheCovers/lecturenotes/assembly/L14.html#)\n",
    "\n",
    "hello world in assembly in 14.5.2\n",
    "\n",
    "experience perspective - top down, experiential, repeating multipel times... "
   ]
  },
  {
   "cell_type": "markdown",
   "id": "b265f5b8-56d6-4edc-ae33-25d0797c6755",
   "metadata": {},
   "source": [
    "```\n",
    "$ which date\n",
    "/usr/bin/date\n",
    "$ file /usr/bin/date \n",
    "/usr/bin/date: ELF 64-bit LSB shared object, x86-64, version 1 (SYSV), dynamically linked, interpreter /lib64/ld-linux-x86-64.so.2, BuildID[sha1]=731c2a7a56b2d07e67ac99b4960ec700b3faad68, for GNU/Linux 3.2.0, stripped\n",
    "```"
   ]
  },
  {
   "cell_type": "markdown",
   "id": "8129d5f3-f6b2-43d4-bda7-5f36ba48ab6b",
   "metadata": {},
   "source": [
    "```{note}\n",
    "Here is a note\n",
    "```"
   ]
  }
 ],
 "metadata": {
  "celltoolbar": "Slideshow",
  "hide_input": false,
  "kernelspec": {
   "display_name": "Python 3 (ipykernel)",
   "language": "python",
   "name": "python3"
  },
  "language_info": {
   "codemirror_mode": {
    "name": "ipython",
    "version": 3
   },
   "file_extension": ".py",
   "mimetype": "text/x-python",
   "name": "python",
   "nbconvert_exporter": "python",
   "pygments_lexer": "ipython3",
   "version": "3.10.5"
  }
 },
 "nbformat": 4,
 "nbformat_minor": 5
}
