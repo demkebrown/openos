{
 "cells": [
  {
   "cell_type": "markdown",
   "id": "735ffbe9-30ea-4684-aa87-a36cc9877291",
   "metadata": {},
   "source": [
    "(cont:contr)=\n",
    "# Contributing\n",
    "\n",
    "\n",
    "To run the environment look at the [howto](misc:howto) guild.  This chapter is intended to be a guide to people collaborating with us on developing the open OS textbook.  We first provide [links](cont:contr:links) to background information on the tools used and describe some of our design [choices](cont:contr:design).  Next, we provide a [tutorial](cont:contr:tutorial) on how to get started with the environment if you are a collaborator of the authors, followed by information on how to [author](cont:contr:authoring) content.  Finally, we have a list of main [contributors](cont:contr:contributors). "
   ]
  },
  {
   "cell_type": "markdown",
   "id": "380bf4b9-856e-4cc4-ae96-51fa74263f31",
   "metadata": {},
   "source": [
    "```{note}\n",
    "We recommend you look at this notebook as the best example of generating content, and we will make a valient attempt to keep it up to date as we gain more experience. Having said that, the file system chapter today probably has a better set of examples\n",
    "\n",
    "```{warning} It is really easy to waste months with all the degrees of freedom with this authoring model, and we will try to be prescriptive on how we use the tools, so we recommend you jump straight to the [tutorial](cont:contr:tutorial) directions on [authoring](cont:contr:authoring) material. \n",
    "```{note} This is an example of a note, in a warning, in a note. \n",
    "```\n",
    "```"
   ]
  },
  {
   "cell_type": "markdown",
   "id": "4b4cd7b3-4a91-435c-9c13-8081c718cea7",
   "metadata": {},
   "source": [
    "At the end of this section we have links to various [reference](cont:contr:ref) materials, for example, sections of Jonathan's textbook that we plan to steal materials from. "
   ]
  },
  {
   "cell_type": "markdown",
   "id": "dcec3da9-8cac-431c-864b-3a64bd1080de",
   "metadata": {
    "jp-MarkdownHeadingCollapsed": true,
    "tags": []
   },
   "source": [
    "(cont:contr:links)=\n",
    "## Resources to look at\n",
    "\n",
    "\n",
    "- [jupyterbook: ](https://jupyterbook.org/en/stable/intro.html): look here for basic instructions on authoring; we are basically using jupyterbook in a prescriptive fashion for the static content.\n",
    "    - [cheat sheet for myst markdown](https://jupyterbook.org/en/stable/reference/cheatsheet.html)\n",
    "    - [modifying table of contents](https://jupyterbook.org/en/stable/structure/toc.html)\n",
    "    - [myst markdown](https://jupyterbook.org/en/stable/content/myst.html): we plan on authoring much of this with myst, although the current implementation of myst for jupyterbook is experimental.\n",
    "    - [tags on cells](https://jupyterbook.org/en/stable/content/metadata.html#jupyter-cell-tags): use this to, for example hide inputs\n",
    "- [jonathan notes on looking slides](https://jappavoo.github.io/UndertheCovers/lecturenotes/lnhowto.html)\n",
    "- [jonthans repo for under the covers](https://github.com/jappavoo/UndertheCovers)"
   ]
  },
  {
   "cell_type": "markdown",
   "id": "e7896d37-3578-45c8-b9cc-ba9fd7c1f621",
   "metadata": {
    "slideshow": {
     "slide_type": "subslide"
    },
    "tags": []
   },
   "source": [
    "(cont:contr:design)=\n",
    "## Design choices\n",
    "\n",
    "* All real content is in the “content” directory\n",
    "    * tb_toc.yml - the table of contents for the book\n",
    "* The images should all be in the image directory\n",
    "* We are creating one subdirectory for each chapter that will contain:\n",
    "   - book materials; for now, its a single file for book; likely will eventually break into sections\n",
    "   - all corresponding lectures, referred to as lecture notes\n",
    "   - all corresponding lab materials\n",
    "   \n"
   ]
  },
  {
   "cell_type": "markdown",
   "id": "96506000-7d32-4d22-be20-dac90e02113b",
   "metadata": {},
   "source": [
    "(cont:contr:tutorial)=\n",
    "## Authoring tutorial - getting started\n",
    "\n",
    "Here is tutorial to getting started that describes how to set up your authoring environment assuming you are a collaborator of the authors. "
   ]
  },
  {
   "cell_type": "markdown",
   "id": "a557ddfb-6267-45b0-8c3e-5b7a35279910",
   "metadata": {
    "slideshow": {
     "slide_type": "slide"
    },
    "tags": []
   },
   "source": [
    "### Authoring workflow\n",
    "\n",
    "* Fork the operating system textbook from [here](https://github.com/okrieg/openos)\n",
    "* Clone your fork on your container and you are ready to generate content\n",
    "* make XX in the directory, where make with no arguments will provide help, right now:\n",
    "    * make build-tb - build the textbook\n",
    "    * make pub-tb -  will actually publish it to git\n",
    "* You don’t need to do any making, just edit the corresponding notebooks\n",
    "* After you build it, you can look at the textbook by going to textbook/_build/html/intro_tb.html \n",
    "* For suggesting small changes, or discussing topics, join the OPE annotation group on [hypothesis](https://hypothes.is/groups/9Q6GRjK4/ope)\n",
    "    * you can annotate clicking on icon on the very right on the published document after creating a hypothesis group"
   ]
  },
  {
   "cell_type": "markdown",
   "id": "3d5d4ce3-dd4e-4026-a00a-22efe79ac406",
   "metadata": {},
   "source": [
    "### Submitting changes\n",
    "\n",
    "* you should on your fork create a [pull request to original branch](https://docs.github.com/en/pull-requests/collaborating-with-pull-requests/proposing-changes-to-your-work-with-pull-requests/creating-a-pull-request-from-a-fork) of main repo"
   ]
  },
  {
   "cell_type": "markdown",
   "id": "918fdd95-1737-4a39-9cc7-26a41882bb63",
   "metadata": {},
   "source": [
    "### Accepting changes\n",
    "\n",
    "* Go to github, look for pull requests, I like to use the git commands directly, describe ehre\n",
    "\n",
    "This book is based off of OPE, to re-integrate (FIX to explain below)\n",
    "- git remote add ope git@github.com:OPEFFORT/ope.git\n",
    "- git log --oneline --all --graph --decorate\n",
    "- git log --oneline --graph --decorate  --all\n",
    "- git rebase ope/coursecontenttemplate\n",
    "- git log --oneline --graph --decorate  new-structure\n",
    "- git switch main\n",
    "- git rebase new-feature\n",
    "- git fetch origin\n",
    "- git fetch  ope"
   ]
  },
  {
   "cell_type": "markdown",
   "id": "b15cc895-88d5-4c56-a847-8f38d22a153f",
   "metadata": {},
   "source": [
    "(cont:contr:authoring)=\n",
    "## Authoring content"
   ]
  },
  {
   "cell_type": "markdown",
   "id": "97016bb3-e972-45d4-890a-7b67854fa4c6",
   "metadata": {},
   "source": [
    "### Using jupyterlab\n",
    "\n",
    "Will put various hints here on what we find works, although for the most part like any editor, you will gradually experience what works best for you.  \n",
    "\n",
    "- there seems to be just one file browser, I tend to open multiple links to the textbook:\n",
    "   1. for the place I am actually authoring\n",
    "   2. for a browser to move around, look at examples\n",
    "   3. for the rendered book/result\n",
    "- we might want to build some simple vidios/todos"
   ]
  },
  {
   "cell_type": "markdown",
   "id": "d92ea9fd-c471-4c26-82ce-cfe0b13601bb",
   "metadata": {},
   "source": [
    "### Adding figures\n",
    "\n",
    "Use draw.io for open source software, I download the desktop version from [here](https://www.diagrams.net/}) since it seems more reliable.  You can just download the image to your desktop, edit it there, and upload it again. You can Please use png as the source type of the file, rather than the default drawio; in this case it will create a XXX.drawio.png file, where the diagram is embedded in the png, so you can both dispay it, and edit it. This means you can not only continue to edit the file directly, but can also include exactly the same file in a figure.  \n",
    "\n",
    "Tricks I have found in using this:\n",
    "   1. with the desktop version you can directly copy images browser see this [vidio](https://www.youtube.com/watch?v=pYROq5Aphoc)\n",
    "   1. I tend to use layers, for animation, then upload it and generate multiple png files form the same image\n",
    "   1. You very much want to export the picture as high-resolution, by using a large zoom, see Figure {numref}`contrib:fig:dioex2`\n",
    "   \n",
    "```{figure} ../images/contrib/draw-io-control-resolution.png\n",
    "---\n",
    "width: 60%\n",
    "name: contrib:fig:dioex3\n",
    "---\n",
    "Making images high resolution.\n",
    "```\n",
    "\n",
    "If you use the drawio embedded in the notebook environment, to generate a png rather than using the file export from the figure, use the command palette from jupyter \"view\" menue as shown in figures \n",
    "{numref}`contrib:fig:dioex1` and {numref}`contrib:fig:dioex2`.\n",
    "\n",
    "```{figure} ../images/contrib/drawio-export-1.png\n",
    "---\n",
    "width: 60%\n",
    "name: contrib:fig:dioex1\n",
    "---\n",
    "Activate Command Palette to export drawio figure as png.\n",
    "```\n",
    "\n",
    "```{figure} ../images/contrib/drawio-export-2.png\n",
    "---\n",
    "width: 60%\n",
    "name: contrib:fig:dioex2\n",
    "---\n",
    "Export drawio figure as png.\n",
    "```\n",
    "\n",
    "Note, this is strongly discouraged, since I don't see any way to fix the resolution so that the images don't suck.  I end up exporting from draw.io at 500% to get pictures to look reasonable. \n",
    "\n",
    "\n",
    "\n",
    "We use the figure directive in myst, so the following:\n",
    "~~~\n",
    "\n",
    "```{figure} ../images/osstructure-1.drawio.png\n",
    "---\n",
    "width: 50%\n",
    "name: fcontrib:fig:examp\n",
    "align: right\n",
    "---\n",
    "A caption for figure\n",
    "```\n",
    "~~~\n",
    "Results in this:\n",
    "\n",
    "As shown in figure {ref}`contrib:fig:examp`, most operating systems today have ... \n",
    "\n",
    "```{figure} ../images/osstructure-1.dio.png\n",
    "---\n",
    "width: 50%\n",
    "name: contrib:fig:examp\n",
    "align: right\n",
    "---\n",
    "A caption for figure\n",
    "```\n",
    "\n",
    "For more on figures look at this [reference](https://myst-parser.readthedocs.io/en/latest/syntax/roles-and-directives.html#images-and-figures)."
   ]
  },
  {
   "cell_type": "markdown",
   "id": "b1466935-d8c8-4d03-b9f5-d8bda5a4a3c2",
   "metadata": {},
   "source": [
    "### TAGS\n",
    "- you can add [tags](https://jupyterbook.org/en/stable/content/metadata.html#jupyter-cell-tags}) to cells, e.g., to make a slide a note, or to make a cell display in the margin.  Tags I am using so far are:\n",
    "   - margin"
   ]
  },
  {
   "cell_type": "markdown",
   "id": "6e206c92-93e7-4af2-b2f7-59e269fe97a4",
   "metadata": {},
   "source": [
    "### RISE presentations.\n",
    "\n",
    "#### Developing one\n",
    "\n",
    "- you can find an example with templates for slides in the \"content/contributing\" directory under L01-example notebook. \n",
    "- you should create a symbolic link to the lecture note css file (content/css/ln.css) with the name of your slide (e.g., L01-example), and commit it to the repo\n",
    "- to determin which cells are slides, versus notes, versus subslides... edit the tags\n",
    "\n",
    "#### Coverting google slide presentation\n",
    "- download google slidedeck as a powerpoint\n",
    "- open powerpoint in keynote\n",
    "- export to images, \n",
    "  - set to do an image for each stage of animations\n",
    "  - make sure png and transpartent backgrounds\n",
    "  - upload to book directory \"content/from-google-slides\"\n",
    "    - create new subdirectory (e.g., MM01)\n",
    "    - upload all images generated into that directory\n",
    "    - in directory, e.g., mm, type ```{code-block} ../python/mkln MM-L1 ../from-google-slides/MM01 ```\n",
    "    - you should now have a rise presentation titled MM-L1, where each image is a seperate slide\n",
    "  \n",
    "\n",
    "#### Running one\n",
    "- press lower case \"t\", in screen show for speaker notes; my experience is that only works if you start the note before going to full screen on the slide\n"
   ]
  },
  {
   "cell_type": "markdown",
   "id": "e31ca70c-8ee5-4a71-a5a1-9cd81b61761f",
   "metadata": {},
   "source": [
    "### Useful tricks and stuff we should try\n",
    "\n",
    "- as add-on to google doc, can convert google doc to markdown using [docs to markdown](https://workspace.google.com/marketplace/app/docs_to_markdown/700168918607)\n",
    "- worth downloading google slides and then converting to markdown to get a start on slides and figures we want to include\n"
   ]
  },
  {
   "cell_type": "markdown",
   "id": "b1397284-8248-43fd-89d2-764fe6fd8062",
   "metadata": {},
   "source": [
    "(cont:contr:ref)=\n",
    "## References\n",
    "\n",
    "Stuff to steal from look at, pasting here\n",
    "\n",
    "- [examples of proc file system](https://jappavoo.github.io/UndertheCovers/textbook/unix/shellintro.html#standard-output-and-redirection)\n",
    "\n",
    "xv6 - simple OS from MIT - https://pdos.csail.mit.edu/6.828/2012/xv6.html\n",
    "\n",
    "book from peter\n",
    "\n",
    "book three easy steps or whatever, .. \n",
    "\n",
    "Style here from jonathan hiding content: [#](https://jappavoo.github.io/UndertheCovers/textbook/assembly/InfoRepI.html#gdb-display-and-set-registers)\n",
    "\n",
    "https://jappavoo.github.io/UndertheCovers/textbook/assembly/InfoRepI.html#gdb-display-and-set-registers\n",
    "\n",
    "Order in which to read book - \n",
    "\n",
    "- what is introductory content, what is detail... \n",
    "\n",
    "Figure out how to put in tags in book, so that the tags will reflect...\n",
    "\n",
    "Test if you can put in reading order in different ways, can you put in maps, or can you \n",
    "\n",
    "- several curated reading order\n",
    "\n",
    "We have asked you to take on faith, we want to give you to learn by trying...\n",
    "\n",
    "look at [    14. SLS Lecture 14 : Assembly using the OS   ](https://jappavoo.github.io/UndertheCovers/lecturenotes/assembly/L14.html#)\n",
    "\n",
    "hello world in assembly in 14.5.2\n",
    "\n",
    "experience perspective - top down, experiential, repeating multipel times... "
   ]
  },
  {
   "cell_type": "markdown",
   "id": "b265f5b8-56d6-4edc-ae33-25d0797c6755",
   "metadata": {},
   "source": [
    "```\n",
    "$ which date\n",
    "/usr/bin/date\n",
    "$ file /usr/bin/date \n",
    "/usr/bin/date: ELF 64-bit LSB shared object, x86-64, version 1 (SYSV), dynamically linked, interpreter /lib64/ld-linux-x86-64.so.2, BuildID[sha1]=731c2a7a56b2d07e67ac99b4960ec700b3faad68, for GNU/Linux 3.2.0, stripped\n",
    "```"
   ]
  },
  {
   "cell_type": "markdown",
   "id": "8129d5f3-f6b2-43d4-bda7-5f36ba48ab6b",
   "metadata": {},
   "source": [
    "```{note}\n",
    "Here is a note\n",
    "```"
   ]
  },
  {
   "cell_type": "markdown",
   "id": "d52a83ac-feb5-45e0-83bb-569598c0ad93",
   "metadata": {},
   "source": [
    "(cont:contr:contributors)=\n",
    "## Contributors\n",
    "\n",
    "We hope that many will contribute to this over time, and the github [community](https://github.com/okrieg/openos/graphs/contributors) page should show recent ones. A major way to contribute is to submit issues ([see here](misc:howto:issue)) when you see a problem. Major contributors and editors for parts of the book are:\n",
    "\n",
    "### Editors in charge of specific sections\n",
    "\n",
    "- Orran Krieger: Editor of this version, [file systems](cont:fs:intro), getting started\n",
    "- Larry Woodman: Memory Management\n",
    "- Eric Munson: Scheduling\n",
    "- Angela Demke Brown: Synchronization\n",
    "- Sadie Allen: [Tools](cont:gs:tools)\n",
    "\n",
    "### Major contributors\n",
    "- Peter Desnoyers: provided much of the content that we seeded this book with from his open source OS book for northeastern graduate course.\n",
    "- Jonathan Appavoo: who's book [Under the Covers: The Secret Life of Software](https://jappavoo.github.io/UndertheCovers/textbook/intro_tb.html#under-the-covers-the-secret-life-of-software) both inspired this book and from which we have stolen content and many ideas. "
   ]
  },
  {
   "cell_type": "code",
   "execution_count": null,
   "id": "a0fd25f0-0b69-4f57-8708-ea6725262b9a",
   "metadata": {},
   "outputs": [],
   "source": []
  }
 ],
 "metadata": {
  "celltoolbar": "Slideshow",
  "hide_input": false,
  "kernelspec": {
   "display_name": "Python 3 (ipykernel)",
   "language": "python",
   "name": "python3"
  },
  "language_info": {
   "codemirror_mode": {
    "name": "ipython",
    "version": 3
   },
   "file_extension": ".py",
   "mimetype": "text/x-python",
   "name": "python",
   "nbconvert_exporter": "python",
   "pygments_lexer": "ipython3",
   "version": "3.10.5"
  }
 },
 "nbformat": 4,
 "nbformat_minor": 5
}
